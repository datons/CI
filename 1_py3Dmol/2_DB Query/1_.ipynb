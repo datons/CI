{
 "cells": [
  {
   "cell_type": "markdown",
   "id": "f5e78ee4",
   "metadata": {
    "papermill": {
     "duration": 0.002115,
     "end_time": "2024-10-25T13:25:29.527927",
     "exception": false,
     "start_time": "2024-10-25T13:25:29.525812",
     "status": "completed"
    },
    "tags": []
   },
   "source": [
    "# Querying from pulic databases"
   ]
  },
  {
   "cell_type": "code",
   "execution_count": null,
   "id": "a0d4a320",
   "metadata": {
    "execution": {
     "iopub.execute_input": "2024-10-25T13:25:29.532692Z",
     "iopub.status.busy": "2024-10-25T13:25:29.532327Z",
     "iopub.status.idle": "2024-10-25T13:25:29.539784Z",
     "shell.execute_reply": "2024-10-25T13:25:29.539427Z"
    },
    "papermill": {
     "duration": 0.011262,
     "end_time": "2024-10-25T13:25:29.541112",
     "exception": false,
     "start_time": "2024-10-25T13:25:29.529850",
     "status": "completed"
    },
    "tags": []
   },
   "outputs": [],
   "source": []
  },
  {
   "cell_type": "markdown",
   "id": "e9fad712",
   "metadata": {
    "papermill": {
     "duration": 0.001105,
     "end_time": "2024-10-25T13:25:29.543584",
     "exception": false,
     "start_time": "2024-10-25T13:25:29.542479",
     "status": "completed"
    },
    "tags": []
   },
   "source": [
    "## Protein Data Bank (PDB)\n",
    "\n",
    "https://www.rcsb.org/"
   ]
  },
  {
   "cell_type": "code",
   "execution_count": null,
   "id": "f9aee0b2",
   "metadata": {
    "execution": {
     "iopub.execute_input": "2024-10-25T13:25:29.546218Z",
     "iopub.status.busy": "2024-10-25T13:25:29.546049Z",
     "iopub.status.idle": "2024-10-25T13:25:29.548717Z",
     "shell.execute_reply": "2024-10-25T13:25:29.548469Z"
    },
    "papermill": {
     "duration": 0.005114,
     "end_time": "2024-10-25T13:25:29.549567",
     "exception": false,
     "start_time": "2024-10-25T13:25:29.544453",
     "status": "completed"
    },
    "tags": []
   },
   "outputs": [
    {
     "data": {
      "application/3dmoljs_load.v0": "<div id=\"3dmolviewer_1729862729546995\"  style=\"position: relative; width: 600px; height: 400px;\">\n        <p id=\"3dmolwarning_1729862729546995\" style=\"background-color:#ffcccc;color:black\">3Dmol.js failed to load for some reason.  Please check your browser console for error messages.<br></p>\n        </div>\n<script>\n\nvar loadScriptAsync = function(uri){\n  return new Promise((resolve, reject) => {\n    //this is to ignore the existence of requirejs amd\n    var savedexports, savedmodule;\n    if (typeof exports !== 'undefined') savedexports = exports;\n    else exports = {}\n    if (typeof module !== 'undefined') savedmodule = module;\n    else module = {}\n\n    var tag = document.createElement('script');\n    tag.src = uri;\n    tag.async = true;\n    tag.onload = () => {\n        exports = savedexports;\n        module = savedmodule;\n        resolve();\n    };\n  var firstScriptTag = document.getElementsByTagName('script')[0];\n  firstScriptTag.parentNode.insertBefore(tag, firstScriptTag);\n});\n};\n\nif(typeof $3Dmolpromise === 'undefined') {\n$3Dmolpromise = null;\n  $3Dmolpromise = loadScriptAsync('https://cdnjs.cloudflare.com/ajax/libs/3Dmol/2.4.0/3Dmol-min.js');\n}\n\nvar viewer_1729862729546995 = null;\nvar warn = document.getElementById(\"3dmolwarning_1729862729546995\");\nif(warn) {\n    warn.parentNode.removeChild(warn);\n}\n$3Dmolpromise.then(function() {\nviewer_1729862729546995 = $3Dmol.createViewer(document.getElementById(\"3dmolviewer_1729862729546995\"),{backgroundColor:\"white\"});\n$3Dmol.download(\"pdb:1zni\", viewer_1729862729546995, {}, function() {\nviewer_1729862729546995.zoomTo();\n\tviewer_1729862729546995.setStyle(\"stick\");\nviewer_1729862729546995.render();\n})\n});\n</script>",
      "text/html": [
       "<div id=\"3dmolviewer_1729862729546995\"  style=\"position: relative; width: 600px; height: 400px;\">\n",
       "        <p id=\"3dmolwarning_1729862729546995\" style=\"background-color:#ffcccc;color:black\">3Dmol.js failed to load for some reason.  Please check your browser console for error messages.<br></p>\n",
       "        </div>\n",
       "<script>\n",
       "\n",
       "var loadScriptAsync = function(uri){\n",
       "  return new Promise((resolve, reject) => {\n",
       "    //this is to ignore the existence of requirejs amd\n",
       "    var savedexports, savedmodule;\n",
       "    if (typeof exports !== 'undefined') savedexports = exports;\n",
       "    else exports = {}\n",
       "    if (typeof module !== 'undefined') savedmodule = module;\n",
       "    else module = {}\n",
       "\n",
       "    var tag = document.createElement('script');\n",
       "    tag.src = uri;\n",
       "    tag.async = true;\n",
       "    tag.onload = () => {\n",
       "        exports = savedexports;\n",
       "        module = savedmodule;\n",
       "        resolve();\n",
       "    };\n",
       "  var firstScriptTag = document.getElementsByTagName('script')[0];\n",
       "  firstScriptTag.parentNode.insertBefore(tag, firstScriptTag);\n",
       "});\n",
       "};\n",
       "\n",
       "if(typeof $3Dmolpromise === 'undefined') {\n",
       "$3Dmolpromise = null;\n",
       "  $3Dmolpromise = loadScriptAsync('https://cdnjs.cloudflare.com/ajax/libs/3Dmol/2.4.0/3Dmol-min.js');\n",
       "}\n",
       "\n",
       "var viewer_1729862729546995 = null;\n",
       "var warn = document.getElementById(\"3dmolwarning_1729862729546995\");\n",
       "if(warn) {\n",
       "    warn.parentNode.removeChild(warn);\n",
       "}\n",
       "$3Dmolpromise.then(function() {\n",
       "viewer_1729862729546995 = $3Dmol.createViewer(document.getElementById(\"3dmolviewer_1729862729546995\"),{backgroundColor:\"white\"});\n",
       "$3Dmol.download(\"pdb:1zni\", viewer_1729862729546995, {}, function() {\n",
       "viewer_1729862729546995.zoomTo();\n",
       "\tviewer_1729862729546995.setStyle(\"stick\");\n",
       "viewer_1729862729546995.render();\n",
       "})\n",
       "});\n",
       "</script>"
      ]
     },
     "execution_count": null,
     "metadata": {},
     "output_type": "display_data"
    }
   ],
   "source": []
  },
  {
   "cell_type": "markdown",
   "id": "920af7ed",
   "metadata": {
    "papermill": {
     "duration": 0.000889,
     "end_time": "2024-10-25T13:25:29.551430",
     "exception": false,
     "start_time": "2024-10-25T13:25:29.550541",
     "status": "completed"
    },
    "tags": []
   },
   "source": [
    "---"
   ]
  },
  {
   "cell_type": "markdown",
   "id": "fbb5a9b9",
   "metadata": {
    "papermill": {
     "duration": 0.000958,
     "end_time": "2024-10-25T13:25:29.553173",
     "exception": false,
     "start_time": "2024-10-25T13:25:29.552215",
     "status": "completed"
    },
    "tags": []
   },
   "source": [
    "## PubChem\n",
    "\n",
    "https://pubchem.ncbi.nlm.nih.gov/"
   ]
  },
  {
   "cell_type": "code",
   "execution_count": null,
   "id": "a62e3168",
   "metadata": {
    "execution": {
     "iopub.execute_input": "2024-10-25T13:25:29.555543Z",
     "iopub.status.busy": "2024-10-25T13:25:29.555414Z",
     "iopub.status.idle": "2024-10-25T13:25:29.558192Z",
     "shell.execute_reply": "2024-10-25T13:25:29.557864Z"
    },
    "papermill": {
     "duration": 0.00496,
     "end_time": "2024-10-25T13:25:29.559071",
     "exception": false,
     "start_time": "2024-10-25T13:25:29.554111",
     "status": "completed"
    },
    "tags": []
   },
   "outputs": [
    {
     "data": {
      "application/3dmoljs_load.v0": "<div id=\"3dmolviewer_1729862729556138\"  style=\"position: relative; width: 600px; height: 400px;\">\n        <p id=\"3dmolwarning_1729862729556138\" style=\"background-color:#ffcccc;color:black\">3Dmol.js failed to load for some reason.  Please check your browser console for error messages.<br></p>\n        </div>\n<script>\n\nvar loadScriptAsync = function(uri){\n  return new Promise((resolve, reject) => {\n    //this is to ignore the existence of requirejs amd\n    var savedexports, savedmodule;\n    if (typeof exports !== 'undefined') savedexports = exports;\n    else exports = {}\n    if (typeof module !== 'undefined') savedmodule = module;\n    else module = {}\n\n    var tag = document.createElement('script');\n    tag.src = uri;\n    tag.async = true;\n    tag.onload = () => {\n        exports = savedexports;\n        module = savedmodule;\n        resolve();\n    };\n  var firstScriptTag = document.getElementsByTagName('script')[0];\n  firstScriptTag.parentNode.insertBefore(tag, firstScriptTag);\n});\n};\n\nif(typeof $3Dmolpromise === 'undefined') {\n$3Dmolpromise = null;\n  $3Dmolpromise = loadScriptAsync('https://cdnjs.cloudflare.com/ajax/libs/3Dmol/2.4.0/3Dmol-min.js');\n}\n\nvar viewer_1729862729556138 = null;\nvar warn = document.getElementById(\"3dmolwarning_1729862729556138\");\nif(warn) {\n    warn.parentNode.removeChild(warn);\n}\n$3Dmolpromise.then(function() {\nviewer_1729862729556138 = $3Dmol.createViewer(document.getElementById(\"3dmolviewer_1729862729556138\"),{backgroundColor:\"white\"});\n$3Dmol.download(\"cid:2519\", viewer_1729862729556138, {}, function() {\nviewer_1729862729556138.zoomTo();\n\tviewer_1729862729556138.setStyle({\"stick\": {\"radius\": 0.2}});\nviewer_1729862729556138.render();\n})\n});\n</script>",
      "text/html": [
       "<div id=\"3dmolviewer_1729862729556138\"  style=\"position: relative; width: 600px; height: 400px;\">\n",
       "        <p id=\"3dmolwarning_1729862729556138\" style=\"background-color:#ffcccc;color:black\">3Dmol.js failed to load for some reason.  Please check your browser console for error messages.<br></p>\n",
       "        </div>\n",
       "<script>\n",
       "\n",
       "var loadScriptAsync = function(uri){\n",
       "  return new Promise((resolve, reject) => {\n",
       "    //this is to ignore the existence of requirejs amd\n",
       "    var savedexports, savedmodule;\n",
       "    if (typeof exports !== 'undefined') savedexports = exports;\n",
       "    else exports = {}\n",
       "    if (typeof module !== 'undefined') savedmodule = module;\n",
       "    else module = {}\n",
       "\n",
       "    var tag = document.createElement('script');\n",
       "    tag.src = uri;\n",
       "    tag.async = true;\n",
       "    tag.onload = () => {\n",
       "        exports = savedexports;\n",
       "        module = savedmodule;\n",
       "        resolve();\n",
       "    };\n",
       "  var firstScriptTag = document.getElementsByTagName('script')[0];\n",
       "  firstScriptTag.parentNode.insertBefore(tag, firstScriptTag);\n",
       "});\n",
       "};\n",
       "\n",
       "if(typeof $3Dmolpromise === 'undefined') {\n",
       "$3Dmolpromise = null;\n",
       "  $3Dmolpromise = loadScriptAsync('https://cdnjs.cloudflare.com/ajax/libs/3Dmol/2.4.0/3Dmol-min.js');\n",
       "}\n",
       "\n",
       "var viewer_1729862729556138 = null;\n",
       "var warn = document.getElementById(\"3dmolwarning_1729862729556138\");\n",
       "if(warn) {\n",
       "    warn.parentNode.removeChild(warn);\n",
       "}\n",
       "$3Dmolpromise.then(function() {\n",
       "viewer_1729862729556138 = $3Dmol.createViewer(document.getElementById(\"3dmolviewer_1729862729556138\"),{backgroundColor:\"white\"});\n",
       "$3Dmol.download(\"cid:2519\", viewer_1729862729556138, {}, function() {\n",
       "viewer_1729862729556138.zoomTo();\n",
       "\tviewer_1729862729556138.setStyle({\"stick\": {\"radius\": 0.2}});\n",
       "viewer_1729862729556138.render();\n",
       "})\n",
       "});\n",
       "</script>"
      ]
     },
     "execution_count": null,
     "metadata": {},
     "output_type": "display_data"
    }
   ],
   "source": []
  }
 ],
 "metadata": {
  "kernelspec": {
   "display_name": "work",
   "language": "python",
   "name": "python3"
  },
  "language_info": {
   "codemirror_mode": {
    "name": "ipython",
    "version": 3
   },
   "file_extension": ".py",
   "mimetype": "text/x-python",
   "name": "python",
   "nbconvert_exporter": "python",
   "pygments_lexer": "ipython3",
   "version": "3.12.3"
  },
  "papermill": {
   "default_parameters": {},
   "duration": 1.055061,
   "end_time": "2024-10-25T13:25:29.776585",
   "environment_variables": {},
   "exception": null,
   "input_path": "/Users/sota/Library/CloudStorage/Dropbox-datons/Training/2 Areas/Courses/3 Catalogue/LB/workbook/py3Dmol/2_DB Query/1C_.ipynb",
   "output_path": "/Users/sota/Library/CloudStorage/Dropbox-datons/Training/2 Areas/Courses/3 Catalogue/LB/workbook/py3Dmol/2_DB Query/1C_.ipynb",
   "parameters": {},
   "start_time": "2024-10-25T13:25:28.721524",
   "version": "2.6.0"
  }
 },
 "nbformat": 4,
 "nbformat_minor": 5
}
