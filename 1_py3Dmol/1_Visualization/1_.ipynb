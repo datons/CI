{
 "cells": [
  {
   "cell_type": "markdown",
   "id": "04b2d2ab",
   "metadata": {
    "papermill": {
     "duration": 0.003906,
     "end_time": "2024-10-25T13:25:26.620135",
     "exception": false,
     "start_time": "2024-10-25T13:25:26.616229",
     "status": "completed"
    },
    "tags": []
   },
   "source": [
    "# Molecular visualization with Py3Dmol"
   ]
  },
  {
   "cell_type": "markdown",
   "id": "602e352c",
   "metadata": {
    "papermill": {
     "duration": 0.003121,
     "end_time": "2024-10-25T13:25:26.626915",
     "exception": false,
     "start_time": "2024-10-25T13:25:26.623794",
     "status": "completed"
    },
    "tags": []
   },
   "source": [
    "## Viewer"
   ]
  },
  {
   "cell_type": "code",
   "execution_count": null,
   "id": "93487eed",
   "metadata": {
    "execution": {
     "iopub.execute_input": "2024-10-25T13:25:26.633912Z",
     "iopub.status.busy": "2024-10-25T13:25:26.633734Z",
     "iopub.status.idle": "2024-10-25T13:25:26.642091Z",
     "shell.execute_reply": "2024-10-25T13:25:26.641785Z"
    },
    "papermill": {
     "duration": 0.012716,
     "end_time": "2024-10-25T13:25:26.643008",
     "exception": false,
     "start_time": "2024-10-25T13:25:26.630292",
     "status": "completed"
    },
    "tags": []
   },
   "outputs": [
    {
     "data": {
      "application/3dmoljs_load.v0": "<div id=\"3dmolviewer_1729862726640497\"  style=\"position: relative; width: 600px; height: 400px;\">\n        <p id=\"3dmolwarning_1729862726640497\" style=\"background-color:#ffcccc;color:black\">3Dmol.js failed to load for some reason.  Please check your browser console for error messages.<br></p>\n        </div>\n<script>\n\nvar loadScriptAsync = function(uri){\n  return new Promise((resolve, reject) => {\n    //this is to ignore the existence of requirejs amd\n    var savedexports, savedmodule;\n    if (typeof exports !== 'undefined') savedexports = exports;\n    else exports = {}\n    if (typeof module !== 'undefined') savedmodule = module;\n    else module = {}\n\n    var tag = document.createElement('script');\n    tag.src = uri;\n    tag.async = true;\n    tag.onload = () => {\n        exports = savedexports;\n        module = savedmodule;\n        resolve();\n    };\n  var firstScriptTag = document.getElementsByTagName('script')[0];\n  firstScriptTag.parentNode.insertBefore(tag, firstScriptTag);\n});\n};\n\nif(typeof $3Dmolpromise === 'undefined') {\n$3Dmolpromise = null;\n  $3Dmolpromise = loadScriptAsync('https://cdnjs.cloudflare.com/ajax/libs/3Dmol/2.4.0/3Dmol-min.js');\n}\n\nvar viewer_1729862726640497 = null;\nvar warn = document.getElementById(\"3dmolwarning_1729862726640497\");\nif(warn) {\n    warn.parentNode.removeChild(warn);\n}\n$3Dmolpromise.then(function() {\nviewer_1729862726640497 = $3Dmol.createViewer(document.getElementById(\"3dmolviewer_1729862726640497\"),{backgroundColor:\"white\"});\n$3Dmol.download(\"cid:2519\", viewer_1729862726640497, {}, function() {\nviewer_1729862726640497.zoomTo();\nviewer_1729862726640497.render();\n})\n});\n</script>",
      "text/html": [
       "<div id=\"3dmolviewer_1729862726640497\"  style=\"position: relative; width: 600px; height: 400px;\">\n",
       "        <p id=\"3dmolwarning_1729862726640497\" style=\"background-color:#ffcccc;color:black\">3Dmol.js failed to load for some reason.  Please check your browser console for error messages.<br></p>\n",
       "        </div>\n",
       "<script>\n",
       "\n",
       "var loadScriptAsync = function(uri){\n",
       "  return new Promise((resolve, reject) => {\n",
       "    //this is to ignore the existence of requirejs amd\n",
       "    var savedexports, savedmodule;\n",
       "    if (typeof exports !== 'undefined') savedexports = exports;\n",
       "    else exports = {}\n",
       "    if (typeof module !== 'undefined') savedmodule = module;\n",
       "    else module = {}\n",
       "\n",
       "    var tag = document.createElement('script');\n",
       "    tag.src = uri;\n",
       "    tag.async = true;\n",
       "    tag.onload = () => {\n",
       "        exports = savedexports;\n",
       "        module = savedmodule;\n",
       "        resolve();\n",
       "    };\n",
       "  var firstScriptTag = document.getElementsByTagName('script')[0];\n",
       "  firstScriptTag.parentNode.insertBefore(tag, firstScriptTag);\n",
       "});\n",
       "};\n",
       "\n",
       "if(typeof $3Dmolpromise === 'undefined') {\n",
       "$3Dmolpromise = null;\n",
       "  $3Dmolpromise = loadScriptAsync('https://cdnjs.cloudflare.com/ajax/libs/3Dmol/2.4.0/3Dmol-min.js');\n",
       "}\n",
       "\n",
       "var viewer_1729862726640497 = null;\n",
       "var warn = document.getElementById(\"3dmolwarning_1729862726640497\");\n",
       "if(warn) {\n",
       "    warn.parentNode.removeChild(warn);\n",
       "}\n",
       "$3Dmolpromise.then(function() {\n",
       "viewer_1729862726640497 = $3Dmol.createViewer(document.getElementById(\"3dmolviewer_1729862726640497\"),{backgroundColor:\"white\"});\n",
       "$3Dmol.download(\"cid:2519\", viewer_1729862726640497, {}, function() {\n",
       "viewer_1729862726640497.zoomTo();\n",
       "viewer_1729862726640497.render();\n",
       "})\n",
       "});\n",
       "</script>"
      ]
     },
     "execution_count": null,
     "metadata": {},
     "output_type": "display_data"
    }
   ],
   "source": []
  },
  {
   "cell_type": "markdown",
   "id": "27979d7b",
   "metadata": {
    "papermill": {
     "duration": 0.002487,
     "end_time": "2024-10-25T13:25:26.648413",
     "exception": false,
     "start_time": "2024-10-25T13:25:26.645926",
     "status": "completed"
    },
    "tags": []
   },
   "source": [
    "## Customizing styles\n",
    "\n",
    "Different styles allow you to visualize molecules in various representations such as sticks, lines, spheres, etc.\n",
    "\n",
    "- Stick\n",
    "- Line\n",
    "- Sphere"
   ]
  },
  {
   "cell_type": "markdown",
   "id": "943e9314",
   "metadata": {
    "papermill": {
     "duration": 0.002369,
     "end_time": "2024-10-25T13:25:26.653164",
     "exception": false,
     "start_time": "2024-10-25T13:25:26.650795",
     "status": "completed"
    },
    "tags": []
   },
   "source": [
    "### Stick"
   ]
  },
  {
   "cell_type": "code",
   "execution_count": null,
   "id": "6f5364d5",
   "metadata": {
    "execution": {
     "iopub.execute_input": "2024-10-25T13:25:26.658398Z",
     "iopub.status.busy": "2024-10-25T13:25:26.658283Z",
     "iopub.status.idle": "2024-10-25T13:25:26.660493Z",
     "shell.execute_reply": "2024-10-25T13:25:26.660184Z"
    },
    "papermill": {
     "duration": 0.005728,
     "end_time": "2024-10-25T13:25:26.661286",
     "exception": false,
     "start_time": "2024-10-25T13:25:26.655558",
     "status": "completed"
    },
    "tags": []
   },
   "outputs": [
    {
     "data": {
      "application/3dmoljs_load.v0": "<div id=\"3dmolviewer_1729862726658889\"  style=\"position: relative; width: 600px; height: 400px;\">\n        <p id=\"3dmolwarning_1729862726658889\" style=\"background-color:#ffcccc;color:black\">3Dmol.js failed to load for some reason.  Please check your browser console for error messages.<br></p>\n        </div>\n<script>\n\nvar loadScriptAsync = function(uri){\n  return new Promise((resolve, reject) => {\n    //this is to ignore the existence of requirejs amd\n    var savedexports, savedmodule;\n    if (typeof exports !== 'undefined') savedexports = exports;\n    else exports = {}\n    if (typeof module !== 'undefined') savedmodule = module;\n    else module = {}\n\n    var tag = document.createElement('script');\n    tag.src = uri;\n    tag.async = true;\n    tag.onload = () => {\n        exports = savedexports;\n        module = savedmodule;\n        resolve();\n    };\n  var firstScriptTag = document.getElementsByTagName('script')[0];\n  firstScriptTag.parentNode.insertBefore(tag, firstScriptTag);\n});\n};\n\nif(typeof $3Dmolpromise === 'undefined') {\n$3Dmolpromise = null;\n  $3Dmolpromise = loadScriptAsync('https://cdnjs.cloudflare.com/ajax/libs/3Dmol/2.4.0/3Dmol-min.js');\n}\n\nvar viewer_1729862726658889 = null;\nvar warn = document.getElementById(\"3dmolwarning_1729862726658889\");\nif(warn) {\n    warn.parentNode.removeChild(warn);\n}\n$3Dmolpromise.then(function() {\nviewer_1729862726658889 = $3Dmol.createViewer(document.getElementById(\"3dmolviewer_1729862726658889\"),{backgroundColor:\"white\"});\n$3Dmol.download(\"cid:2519\", viewer_1729862726658889, {}, function() {\nviewer_1729862726658889.zoomTo();\n\tviewer_1729862726658889.setStyle({\"stick\": {\"radius\": 0.2, \"colorscheme\": \"cyanCarbon\", \"singleBonds\": false}});\n\tviewer_1729862726658889.zoomTo();\nviewer_1729862726658889.render();\n})\n});\n</script>",
      "text/html": [
       "<div id=\"3dmolviewer_1729862726658889\"  style=\"position: relative; width: 600px; height: 400px;\">\n",
       "        <p id=\"3dmolwarning_1729862726658889\" style=\"background-color:#ffcccc;color:black\">3Dmol.js failed to load for some reason.  Please check your browser console for error messages.<br></p>\n",
       "        </div>\n",
       "<script>\n",
       "\n",
       "var loadScriptAsync = function(uri){\n",
       "  return new Promise((resolve, reject) => {\n",
       "    //this is to ignore the existence of requirejs amd\n",
       "    var savedexports, savedmodule;\n",
       "    if (typeof exports !== 'undefined') savedexports = exports;\n",
       "    else exports = {}\n",
       "    if (typeof module !== 'undefined') savedmodule = module;\n",
       "    else module = {}\n",
       "\n",
       "    var tag = document.createElement('script');\n",
       "    tag.src = uri;\n",
       "    tag.async = true;\n",
       "    tag.onload = () => {\n",
       "        exports = savedexports;\n",
       "        module = savedmodule;\n",
       "        resolve();\n",
       "    };\n",
       "  var firstScriptTag = document.getElementsByTagName('script')[0];\n",
       "  firstScriptTag.parentNode.insertBefore(tag, firstScriptTag);\n",
       "});\n",
       "};\n",
       "\n",
       "if(typeof $3Dmolpromise === 'undefined') {\n",
       "$3Dmolpromise = null;\n",
       "  $3Dmolpromise = loadScriptAsync('https://cdnjs.cloudflare.com/ajax/libs/3Dmol/2.4.0/3Dmol-min.js');\n",
       "}\n",
       "\n",
       "var viewer_1729862726658889 = null;\n",
       "var warn = document.getElementById(\"3dmolwarning_1729862726658889\");\n",
       "if(warn) {\n",
       "    warn.parentNode.removeChild(warn);\n",
       "}\n",
       "$3Dmolpromise.then(function() {\n",
       "viewer_1729862726658889 = $3Dmol.createViewer(document.getElementById(\"3dmolviewer_1729862726658889\"),{backgroundColor:\"white\"});\n",
       "$3Dmol.download(\"cid:2519\", viewer_1729862726658889, {}, function() {\n",
       "viewer_1729862726658889.zoomTo();\n",
       "\tviewer_1729862726658889.setStyle({\"stick\": {\"radius\": 0.2, \"colorscheme\": \"cyanCarbon\", \"singleBonds\": false}});\n",
       "\tviewer_1729862726658889.zoomTo();\n",
       "viewer_1729862726658889.render();\n",
       "})\n",
       "});\n",
       "</script>"
      ]
     },
     "execution_count": null,
     "metadata": {},
     "output_type": "display_data"
    }
   ],
   "source": []
  },
  {
   "cell_type": "markdown",
   "id": "530eca57",
   "metadata": {
    "papermill": {
     "duration": 0.002279,
     "end_time": "2024-10-25T13:25:26.666128",
     "exception": false,
     "start_time": "2024-10-25T13:25:26.663849",
     "status": "completed"
    },
    "tags": []
   },
   "source": [
    "### Line"
   ]
  },
  {
   "cell_type": "code",
   "execution_count": null,
   "id": "f3f713ba",
   "metadata": {
    "execution": {
     "iopub.execute_input": "2024-10-25T13:25:26.672122Z",
     "iopub.status.busy": "2024-10-25T13:25:26.671929Z",
     "iopub.status.idle": "2024-10-25T13:25:26.674085Z",
     "shell.execute_reply": "2024-10-25T13:25:26.673869Z"
    },
    "papermill": {
     "duration": 0.006072,
     "end_time": "2024-10-25T13:25:26.674874",
     "exception": false,
     "start_time": "2024-10-25T13:25:26.668802",
     "status": "completed"
    },
    "tags": []
   },
   "outputs": [
    {
     "data": {
      "application/3dmoljs_load.v0": "<div id=\"3dmolviewer_1729862726672561\"  style=\"position: relative; width: 600px; height: 400px;\">\n        <p id=\"3dmolwarning_1729862726672561\" style=\"background-color:#ffcccc;color:black\">3Dmol.js failed to load for some reason.  Please check your browser console for error messages.<br></p>\n        </div>\n<script>\n\nvar loadScriptAsync = function(uri){\n  return new Promise((resolve, reject) => {\n    //this is to ignore the existence of requirejs amd\n    var savedexports, savedmodule;\n    if (typeof exports !== 'undefined') savedexports = exports;\n    else exports = {}\n    if (typeof module !== 'undefined') savedmodule = module;\n    else module = {}\n\n    var tag = document.createElement('script');\n    tag.src = uri;\n    tag.async = true;\n    tag.onload = () => {\n        exports = savedexports;\n        module = savedmodule;\n        resolve();\n    };\n  var firstScriptTag = document.getElementsByTagName('script')[0];\n  firstScriptTag.parentNode.insertBefore(tag, firstScriptTag);\n});\n};\n\nif(typeof $3Dmolpromise === 'undefined') {\n$3Dmolpromise = null;\n  $3Dmolpromise = loadScriptAsync('https://cdnjs.cloudflare.com/ajax/libs/3Dmol/2.4.0/3Dmol-min.js');\n}\n\nvar viewer_1729862726672561 = null;\nvar warn = document.getElementById(\"3dmolwarning_1729862726672561\");\nif(warn) {\n    warn.parentNode.removeChild(warn);\n}\n$3Dmolpromise.then(function() {\nviewer_1729862726672561 = $3Dmol.createViewer(document.getElementById(\"3dmolviewer_1729862726672561\"),{backgroundColor:\"white\"});\n$3Dmol.download(\"cid:2519\", viewer_1729862726672561, {}, function() {\nviewer_1729862726672561.zoomTo();\n\tviewer_1729862726672561.setStyle({\"stick\": {\"radius\": 0.2, \"colorscheme\": \"cyanCarbon\", \"singleBonds\": false}});\n\tviewer_1729862726672561.zoomTo();\n\tviewer_1729862726672561.setStyle({\"line\": {\"linewidth\": 10, \"colorscheme\": \"greenCarbon\"}});\nviewer_1729862726672561.render();\n})\n});\n</script>",
      "text/html": [
       "<div id=\"3dmolviewer_1729862726672561\"  style=\"position: relative; width: 600px; height: 400px;\">\n",
       "        <p id=\"3dmolwarning_1729862726672561\" style=\"background-color:#ffcccc;color:black\">3Dmol.js failed to load for some reason.  Please check your browser console for error messages.<br></p>\n",
       "        </div>\n",
       "<script>\n",
       "\n",
       "var loadScriptAsync = function(uri){\n",
       "  return new Promise((resolve, reject) => {\n",
       "    //this is to ignore the existence of requirejs amd\n",
       "    var savedexports, savedmodule;\n",
       "    if (typeof exports !== 'undefined') savedexports = exports;\n",
       "    else exports = {}\n",
       "    if (typeof module !== 'undefined') savedmodule = module;\n",
       "    else module = {}\n",
       "\n",
       "    var tag = document.createElement('script');\n",
       "    tag.src = uri;\n",
       "    tag.async = true;\n",
       "    tag.onload = () => {\n",
       "        exports = savedexports;\n",
       "        module = savedmodule;\n",
       "        resolve();\n",
       "    };\n",
       "  var firstScriptTag = document.getElementsByTagName('script')[0];\n",
       "  firstScriptTag.parentNode.insertBefore(tag, firstScriptTag);\n",
       "});\n",
       "};\n",
       "\n",
       "if(typeof $3Dmolpromise === 'undefined') {\n",
       "$3Dmolpromise = null;\n",
       "  $3Dmolpromise = loadScriptAsync('https://cdnjs.cloudflare.com/ajax/libs/3Dmol/2.4.0/3Dmol-min.js');\n",
       "}\n",
       "\n",
       "var viewer_1729862726672561 = null;\n",
       "var warn = document.getElementById(\"3dmolwarning_1729862726672561\");\n",
       "if(warn) {\n",
       "    warn.parentNode.removeChild(warn);\n",
       "}\n",
       "$3Dmolpromise.then(function() {\n",
       "viewer_1729862726672561 = $3Dmol.createViewer(document.getElementById(\"3dmolviewer_1729862726672561\"),{backgroundColor:\"white\"});\n",
       "$3Dmol.download(\"cid:2519\", viewer_1729862726672561, {}, function() {\n",
       "viewer_1729862726672561.zoomTo();\n",
       "\tviewer_1729862726672561.setStyle({\"stick\": {\"radius\": 0.2, \"colorscheme\": \"cyanCarbon\", \"singleBonds\": false}});\n",
       "\tviewer_1729862726672561.zoomTo();\n",
       "\tviewer_1729862726672561.setStyle({\"line\": {\"linewidth\": 10, \"colorscheme\": \"greenCarbon\"}});\n",
       "viewer_1729862726672561.render();\n",
       "})\n",
       "});\n",
       "</script>"
      ]
     },
     "execution_count": null,
     "metadata": {},
     "output_type": "display_data"
    }
   ],
   "source": []
  },
  {
   "cell_type": "markdown",
   "id": "860de268",
   "metadata": {
    "papermill": {
     "duration": 0.0047,
     "end_time": "2024-10-25T13:25:26.686452",
     "exception": false,
     "start_time": "2024-10-25T13:25:26.681752",
     "status": "completed"
    },
    "tags": []
   },
   "source": [
    "### Sphere"
   ]
  },
  {
   "cell_type": "code",
   "execution_count": null,
   "id": "c2e0237f",
   "metadata": {
    "execution": {
     "iopub.execute_input": "2024-10-25T13:25:26.691962Z",
     "iopub.status.busy": "2024-10-25T13:25:26.691745Z",
     "iopub.status.idle": "2024-10-25T13:25:26.693900Z",
     "shell.execute_reply": "2024-10-25T13:25:26.693689Z"
    },
    "papermill": {
     "duration": 0.005637,
     "end_time": "2024-10-25T13:25:26.694629",
     "exception": false,
     "start_time": "2024-10-25T13:25:26.688992",
     "status": "completed"
    },
    "tags": []
   },
   "outputs": [
    {
     "data": {
      "application/3dmoljs_load.v0": "<div id=\"3dmolviewer_1729862726692405\"  style=\"position: relative; width: 600px; height: 400px;\">\n        <p id=\"3dmolwarning_1729862726692405\" style=\"background-color:#ffcccc;color:black\">3Dmol.js failed to load for some reason.  Please check your browser console for error messages.<br></p>\n        </div>\n<script>\n\nvar loadScriptAsync = function(uri){\n  return new Promise((resolve, reject) => {\n    //this is to ignore the existence of requirejs amd\n    var savedexports, savedmodule;\n    if (typeof exports !== 'undefined') savedexports = exports;\n    else exports = {}\n    if (typeof module !== 'undefined') savedmodule = module;\n    else module = {}\n\n    var tag = document.createElement('script');\n    tag.src = uri;\n    tag.async = true;\n    tag.onload = () => {\n        exports = savedexports;\n        module = savedmodule;\n        resolve();\n    };\n  var firstScriptTag = document.getElementsByTagName('script')[0];\n  firstScriptTag.parentNode.insertBefore(tag, firstScriptTag);\n});\n};\n\nif(typeof $3Dmolpromise === 'undefined') {\n$3Dmolpromise = null;\n  $3Dmolpromise = loadScriptAsync('https://cdnjs.cloudflare.com/ajax/libs/3Dmol/2.4.0/3Dmol-min.js');\n}\n\nvar viewer_1729862726692405 = null;\nvar warn = document.getElementById(\"3dmolwarning_1729862726692405\");\nif(warn) {\n    warn.parentNode.removeChild(warn);\n}\n$3Dmolpromise.then(function() {\nviewer_1729862726692405 = $3Dmol.createViewer(document.getElementById(\"3dmolviewer_1729862726692405\"),{backgroundColor:\"white\"});\n$3Dmol.download(\"cid:2519\", viewer_1729862726692405, {}, function() {\nviewer_1729862726692405.zoomTo();\n\tviewer_1729862726692405.setStyle({\"stick\": {\"radius\": 0.2, \"colorscheme\": \"cyanCarbon\", \"singleBonds\": false}});\n\tviewer_1729862726692405.zoomTo();\n\tviewer_1729862726692405.setStyle({\"line\": {\"linewidth\": 10, \"colorscheme\": \"greenCarbon\"}});\n\tviewer_1729862726692405.setStyle({\"sphere\": {\"scale\": 0.3, \"colorscheme\": \"cyanCarbon\"}});\nviewer_1729862726692405.render();\n})\n});\n</script>",
      "text/html": [
       "<div id=\"3dmolviewer_1729862726692405\"  style=\"position: relative; width: 600px; height: 400px;\">\n",
       "        <p id=\"3dmolwarning_1729862726692405\" style=\"background-color:#ffcccc;color:black\">3Dmol.js failed to load for some reason.  Please check your browser console for error messages.<br></p>\n",
       "        </div>\n",
       "<script>\n",
       "\n",
       "var loadScriptAsync = function(uri){\n",
       "  return new Promise((resolve, reject) => {\n",
       "    //this is to ignore the existence of requirejs amd\n",
       "    var savedexports, savedmodule;\n",
       "    if (typeof exports !== 'undefined') savedexports = exports;\n",
       "    else exports = {}\n",
       "    if (typeof module !== 'undefined') savedmodule = module;\n",
       "    else module = {}\n",
       "\n",
       "    var tag = document.createElement('script');\n",
       "    tag.src = uri;\n",
       "    tag.async = true;\n",
       "    tag.onload = () => {\n",
       "        exports = savedexports;\n",
       "        module = savedmodule;\n",
       "        resolve();\n",
       "    };\n",
       "  var firstScriptTag = document.getElementsByTagName('script')[0];\n",
       "  firstScriptTag.parentNode.insertBefore(tag, firstScriptTag);\n",
       "});\n",
       "};\n",
       "\n",
       "if(typeof $3Dmolpromise === 'undefined') {\n",
       "$3Dmolpromise = null;\n",
       "  $3Dmolpromise = loadScriptAsync('https://cdnjs.cloudflare.com/ajax/libs/3Dmol/2.4.0/3Dmol-min.js');\n",
       "}\n",
       "\n",
       "var viewer_1729862726692405 = null;\n",
       "var warn = document.getElementById(\"3dmolwarning_1729862726692405\");\n",
       "if(warn) {\n",
       "    warn.parentNode.removeChild(warn);\n",
       "}\n",
       "$3Dmolpromise.then(function() {\n",
       "viewer_1729862726692405 = $3Dmol.createViewer(document.getElementById(\"3dmolviewer_1729862726692405\"),{backgroundColor:\"white\"});\n",
       "$3Dmol.download(\"cid:2519\", viewer_1729862726692405, {}, function() {\n",
       "viewer_1729862726692405.zoomTo();\n",
       "\tviewer_1729862726692405.setStyle({\"stick\": {\"radius\": 0.2, \"colorscheme\": \"cyanCarbon\", \"singleBonds\": false}});\n",
       "\tviewer_1729862726692405.zoomTo();\n",
       "\tviewer_1729862726692405.setStyle({\"line\": {\"linewidth\": 10, \"colorscheme\": \"greenCarbon\"}});\n",
       "\tviewer_1729862726692405.setStyle({\"sphere\": {\"scale\": 0.3, \"colorscheme\": \"cyanCarbon\"}});\n",
       "viewer_1729862726692405.render();\n",
       "})\n",
       "});\n",
       "</script>"
      ]
     },
     "execution_count": null,
     "metadata": {},
     "output_type": "display_data"
    }
   ],
   "source": []
  },
  {
   "cell_type": "markdown",
   "id": "201233ad",
   "metadata": {
    "papermill": {
     "duration": 0.002177,
     "end_time": "2024-10-25T13:25:26.699154",
     "exception": false,
     "start_time": "2024-10-25T13:25:26.696977",
     "status": "completed"
    },
    "tags": []
   },
   "source": [
    "---"
   ]
  },
  {
   "cell_type": "markdown",
   "id": "73df6742",
   "metadata": {
    "papermill": {
     "duration": 0.002227,
     "end_time": "2024-10-25T13:25:26.703492",
     "exception": false,
     "start_time": "2024-10-25T13:25:26.701265",
     "status": "completed"
    },
    "tags": []
   },
   "source": [
    "## Combination of styles"
   ]
  },
  {
   "cell_type": "code",
   "execution_count": null,
   "id": "879d9394",
   "metadata": {
    "execution": {
     "iopub.execute_input": "2024-10-25T13:25:26.708464Z",
     "iopub.status.busy": "2024-10-25T13:25:26.708359Z",
     "iopub.status.idle": "2024-10-25T13:25:26.710320Z",
     "shell.execute_reply": "2024-10-25T13:25:26.710071Z"
    },
    "papermill": {
     "duration": 0.005239,
     "end_time": "2024-10-25T13:25:26.711043",
     "exception": false,
     "start_time": "2024-10-25T13:25:26.705804",
     "status": "completed"
    },
    "tags": []
   },
   "outputs": [
    {
     "data": {
      "application/3dmoljs_load.v0": "<div id=\"3dmolviewer_17298627267088242\"  style=\"position: relative; width: 600px; height: 400px;\">\n        <p id=\"3dmolwarning_17298627267088242\" style=\"background-color:#ffcccc;color:black\">3Dmol.js failed to load for some reason.  Please check your browser console for error messages.<br></p>\n        </div>\n<script>\n\nvar loadScriptAsync = function(uri){\n  return new Promise((resolve, reject) => {\n    //this is to ignore the existence of requirejs amd\n    var savedexports, savedmodule;\n    if (typeof exports !== 'undefined') savedexports = exports;\n    else exports = {}\n    if (typeof module !== 'undefined') savedmodule = module;\n    else module = {}\n\n    var tag = document.createElement('script');\n    tag.src = uri;\n    tag.async = true;\n    tag.onload = () => {\n        exports = savedexports;\n        module = savedmodule;\n        resolve();\n    };\n  var firstScriptTag = document.getElementsByTagName('script')[0];\n  firstScriptTag.parentNode.insertBefore(tag, firstScriptTag);\n});\n};\n\nif(typeof $3Dmolpromise === 'undefined') {\n$3Dmolpromise = null;\n  $3Dmolpromise = loadScriptAsync('https://cdnjs.cloudflare.com/ajax/libs/3Dmol/2.4.0/3Dmol-min.js');\n}\n\nvar viewer_17298627267088242 = null;\nvar warn = document.getElementById(\"3dmolwarning_17298627267088242\");\nif(warn) {\n    warn.parentNode.removeChild(warn);\n}\n$3Dmolpromise.then(function() {\nviewer_17298627267088242 = $3Dmol.createViewer(document.getElementById(\"3dmolviewer_17298627267088242\"),{backgroundColor:\"white\"});\n$3Dmol.download(\"cid:2519\", viewer_17298627267088242, {}, function() {\nviewer_17298627267088242.zoomTo();\n\tviewer_17298627267088242.setStyle({\"stick\": {\"radius\": 0.2, \"colorscheme\": \"cyanCarbon\", \"singleBonds\": false}});\n\tviewer_17298627267088242.zoomTo();\n\tviewer_17298627267088242.setStyle({\"line\": {\"linewidth\": 10, \"colorscheme\": \"greenCarbon\"}});\n\tviewer_17298627267088242.setStyle({\"sphere\": {\"scale\": 0.3, \"colorscheme\": \"cyanCarbon\"}});\n\tviewer_17298627267088242.setStyle({\"stick\": {\"radius\": 0.2}, \"sphere\": {\"scale\": 0.3}});\nviewer_17298627267088242.render();\n})\n});\n</script>",
      "text/html": [
       "<div id=\"3dmolviewer_17298627267088242\"  style=\"position: relative; width: 600px; height: 400px;\">\n",
       "        <p id=\"3dmolwarning_17298627267088242\" style=\"background-color:#ffcccc;color:black\">3Dmol.js failed to load for some reason.  Please check your browser console for error messages.<br></p>\n",
       "        </div>\n",
       "<script>\n",
       "\n",
       "var loadScriptAsync = function(uri){\n",
       "  return new Promise((resolve, reject) => {\n",
       "    //this is to ignore the existence of requirejs amd\n",
       "    var savedexports, savedmodule;\n",
       "    if (typeof exports !== 'undefined') savedexports = exports;\n",
       "    else exports = {}\n",
       "    if (typeof module !== 'undefined') savedmodule = module;\n",
       "    else module = {}\n",
       "\n",
       "    var tag = document.createElement('script');\n",
       "    tag.src = uri;\n",
       "    tag.async = true;\n",
       "    tag.onload = () => {\n",
       "        exports = savedexports;\n",
       "        module = savedmodule;\n",
       "        resolve();\n",
       "    };\n",
       "  var firstScriptTag = document.getElementsByTagName('script')[0];\n",
       "  firstScriptTag.parentNode.insertBefore(tag, firstScriptTag);\n",
       "});\n",
       "};\n",
       "\n",
       "if(typeof $3Dmolpromise === 'undefined') {\n",
       "$3Dmolpromise = null;\n",
       "  $3Dmolpromise = loadScriptAsync('https://cdnjs.cloudflare.com/ajax/libs/3Dmol/2.4.0/3Dmol-min.js');\n",
       "}\n",
       "\n",
       "var viewer_17298627267088242 = null;\n",
       "var warn = document.getElementById(\"3dmolwarning_17298627267088242\");\n",
       "if(warn) {\n",
       "    warn.parentNode.removeChild(warn);\n",
       "}\n",
       "$3Dmolpromise.then(function() {\n",
       "viewer_17298627267088242 = $3Dmol.createViewer(document.getElementById(\"3dmolviewer_17298627267088242\"),{backgroundColor:\"white\"});\n",
       "$3Dmol.download(\"cid:2519\", viewer_17298627267088242, {}, function() {\n",
       "viewer_17298627267088242.zoomTo();\n",
       "\tviewer_17298627267088242.setStyle({\"stick\": {\"radius\": 0.2, \"colorscheme\": \"cyanCarbon\", \"singleBonds\": false}});\n",
       "\tviewer_17298627267088242.zoomTo();\n",
       "\tviewer_17298627267088242.setStyle({\"line\": {\"linewidth\": 10, \"colorscheme\": \"greenCarbon\"}});\n",
       "\tviewer_17298627267088242.setStyle({\"sphere\": {\"scale\": 0.3, \"colorscheme\": \"cyanCarbon\"}});\n",
       "\tviewer_17298627267088242.setStyle({\"stick\": {\"radius\": 0.2}, \"sphere\": {\"scale\": 0.3}});\n",
       "viewer_17298627267088242.render();\n",
       "})\n",
       "});\n",
       "</script>"
      ]
     },
     "execution_count": null,
     "metadata": {},
     "output_type": "display_data"
    }
   ],
   "source": []
  },
  {
   "cell_type": "markdown",
   "id": "fb755de0",
   "metadata": {
    "papermill": {
     "duration": 0.002637,
     "end_time": "2024-10-25T13:25:26.716240",
     "exception": false,
     "start_time": "2024-10-25T13:25:26.713603",
     "status": "completed"
    },
    "tags": []
   },
   "source": [
    "## Customize specific parts of the molecule\n",
    "\n",
    "- resn: Name of residue\n",
    "- elem: Element symbols (e.g. 'H', 'Ca')\n",
    "- chain: The chain number set in the PDB (e.g. 'A')\n",
    "- resi: Residue Number"
   ]
  },
  {
   "cell_type": "markdown",
   "id": "051fceb1",
   "metadata": {
    "papermill": {
     "duration": 0.002615,
     "end_time": "2024-10-25T13:25:26.721897",
     "exception": false,
     "start_time": "2024-10-25T13:25:26.719282",
     "status": "completed"
    },
    "tags": []
   },
   "source": [
    "### Residue Name `resn`"
   ]
  },
  {
   "cell_type": "code",
   "execution_count": null,
   "id": "bf50041b",
   "metadata": {
    "execution": {
     "iopub.execute_input": "2024-10-25T13:25:26.728457Z",
     "iopub.status.busy": "2024-10-25T13:25:26.728264Z",
     "iopub.status.idle": "2024-10-25T13:25:26.731151Z",
     "shell.execute_reply": "2024-10-25T13:25:26.730817Z"
    },
    "papermill": {
     "duration": 0.007444,
     "end_time": "2024-10-25T13:25:26.732166",
     "exception": false,
     "start_time": "2024-10-25T13:25:26.724722",
     "status": "completed"
    },
    "tags": []
   },
   "outputs": [
    {
     "data": {
      "application/3dmoljs_load.v0": "<div id=\"3dmolviewer_17298627267292778\"  style=\"position: relative; width: 800px; height: 600px;\">\n        <p id=\"3dmolwarning_17298627267292778\" style=\"background-color:#ffcccc;color:black\">3Dmol.js failed to load for some reason.  Please check your browser console for error messages.<br></p>\n        </div>\n<script>\n\nvar loadScriptAsync = function(uri){\n  return new Promise((resolve, reject) => {\n    //this is to ignore the existence of requirejs amd\n    var savedexports, savedmodule;\n    if (typeof exports !== 'undefined') savedexports = exports;\n    else exports = {}\n    if (typeof module !== 'undefined') savedmodule = module;\n    else module = {}\n\n    var tag = document.createElement('script');\n    tag.src = uri;\n    tag.async = true;\n    tag.onload = () => {\n        exports = savedexports;\n        module = savedmodule;\n        resolve();\n    };\n  var firstScriptTag = document.getElementsByTagName('script')[0];\n  firstScriptTag.parentNode.insertBefore(tag, firstScriptTag);\n});\n};\n\nif(typeof $3Dmolpromise === 'undefined') {\n$3Dmolpromise = null;\n  $3Dmolpromise = loadScriptAsync('https://cdnjs.cloudflare.com/ajax/libs/3Dmol/2.4.0/3Dmol-min.js');\n}\n\nvar viewer_17298627267292778 = null;\nvar warn = document.getElementById(\"3dmolwarning_17298627267292778\");\nif(warn) {\n    warn.parentNode.removeChild(warn);\n}\n$3Dmolpromise.then(function() {\nviewer_17298627267292778 = $3Dmol.createViewer(document.getElementById(\"3dmolviewer_17298627267292778\"),{backgroundColor:\"white\"});\n$3Dmol.download(\"pdb:1A3N\", viewer_17298627267292778, {}, function() {\nviewer_17298627267292778.zoomTo();\n\tviewer_17298627267292778.setStyle({\"resn\": \"HEM\"},{\"stick\": {\"color\": \"red\", \"radius\": 0.3}});\n\tviewer_17298627267292778.setStyle({\"resn\": \"ALA\"},{\"stick\": {\"color\": \"blue\", \"radius\": 0.3}});\n\tviewer_17298627267292778.zoomTo();\nviewer_17298627267292778.render();\n})\n});\n</script>",
      "text/html": [
       "<div id=\"3dmolviewer_17298627267292778\"  style=\"position: relative; width: 800px; height: 600px;\">\n",
       "        <p id=\"3dmolwarning_17298627267292778\" style=\"background-color:#ffcccc;color:black\">3Dmol.js failed to load for some reason.  Please check your browser console for error messages.<br></p>\n",
       "        </div>\n",
       "<script>\n",
       "\n",
       "var loadScriptAsync = function(uri){\n",
       "  return new Promise((resolve, reject) => {\n",
       "    //this is to ignore the existence of requirejs amd\n",
       "    var savedexports, savedmodule;\n",
       "    if (typeof exports !== 'undefined') savedexports = exports;\n",
       "    else exports = {}\n",
       "    if (typeof module !== 'undefined') savedmodule = module;\n",
       "    else module = {}\n",
       "\n",
       "    var tag = document.createElement('script');\n",
       "    tag.src = uri;\n",
       "    tag.async = true;\n",
       "    tag.onload = () => {\n",
       "        exports = savedexports;\n",
       "        module = savedmodule;\n",
       "        resolve();\n",
       "    };\n",
       "  var firstScriptTag = document.getElementsByTagName('script')[0];\n",
       "  firstScriptTag.parentNode.insertBefore(tag, firstScriptTag);\n",
       "});\n",
       "};\n",
       "\n",
       "if(typeof $3Dmolpromise === 'undefined') {\n",
       "$3Dmolpromise = null;\n",
       "  $3Dmolpromise = loadScriptAsync('https://cdnjs.cloudflare.com/ajax/libs/3Dmol/2.4.0/3Dmol-min.js');\n",
       "}\n",
       "\n",
       "var viewer_17298627267292778 = null;\n",
       "var warn = document.getElementById(\"3dmolwarning_17298627267292778\");\n",
       "if(warn) {\n",
       "    warn.parentNode.removeChild(warn);\n",
       "}\n",
       "$3Dmolpromise.then(function() {\n",
       "viewer_17298627267292778 = $3Dmol.createViewer(document.getElementById(\"3dmolviewer_17298627267292778\"),{backgroundColor:\"white\"});\n",
       "$3Dmol.download(\"pdb:1A3N\", viewer_17298627267292778, {}, function() {\n",
       "viewer_17298627267292778.zoomTo();\n",
       "\tviewer_17298627267292778.setStyle({\"resn\": \"HEM\"},{\"stick\": {\"color\": \"red\", \"radius\": 0.3}});\n",
       "\tviewer_17298627267292778.setStyle({\"resn\": \"ALA\"},{\"stick\": {\"color\": \"blue\", \"radius\": 0.3}});\n",
       "\tviewer_17298627267292778.zoomTo();\n",
       "viewer_17298627267292778.render();\n",
       "})\n",
       "});\n",
       "</script>"
      ]
     },
     "execution_count": null,
     "metadata": {},
     "output_type": "display_data"
    }
   ],
   "source": []
  },
  {
   "cell_type": "markdown",
   "id": "9999848c",
   "metadata": {
    "papermill": {
     "duration": 0.002266,
     "end_time": "2024-10-25T13:25:26.736749",
     "exception": false,
     "start_time": "2024-10-25T13:25:26.734483",
     "status": "completed"
    },
    "tags": []
   },
   "source": [
    "---"
   ]
  },
  {
   "cell_type": "markdown",
   "id": "4c11d975",
   "metadata": {
    "papermill": {
     "duration": 0.004961,
     "end_time": "2024-10-25T13:25:26.744477",
     "exception": false,
     "start_time": "2024-10-25T13:25:26.739516",
     "status": "completed"
    },
    "tags": []
   },
   "source": [
    "### Element `elem`"
   ]
  },
  {
   "cell_type": "code",
   "execution_count": null,
   "id": "45ad325e",
   "metadata": {
    "execution": {
     "iopub.execute_input": "2024-10-25T13:25:26.750691Z",
     "iopub.status.busy": "2024-10-25T13:25:26.750561Z",
     "iopub.status.idle": "2024-10-25T13:25:26.753432Z",
     "shell.execute_reply": "2024-10-25T13:25:26.753096Z"
    },
    "papermill": {
     "duration": 0.007393,
     "end_time": "2024-10-25T13:25:26.754543",
     "exception": false,
     "start_time": "2024-10-25T13:25:26.747150",
     "status": "completed"
    },
    "tags": []
   },
   "outputs": [
    {
     "data": {
      "application/3dmoljs_load.v0": "<div id=\"3dmolviewer_17298627267514188\"  style=\"position: relative; width: 800px; height: 600px;\">\n        <p id=\"3dmolwarning_17298627267514188\" style=\"background-color:#ffcccc;color:black\">3Dmol.js failed to load for some reason.  Please check your browser console for error messages.<br></p>\n        </div>\n<script>\n\nvar loadScriptAsync = function(uri){\n  return new Promise((resolve, reject) => {\n    //this is to ignore the existence of requirejs amd\n    var savedexports, savedmodule;\n    if (typeof exports !== 'undefined') savedexports = exports;\n    else exports = {}\n    if (typeof module !== 'undefined') savedmodule = module;\n    else module = {}\n\n    var tag = document.createElement('script');\n    tag.src = uri;\n    tag.async = true;\n    tag.onload = () => {\n        exports = savedexports;\n        module = savedmodule;\n        resolve();\n    };\n  var firstScriptTag = document.getElementsByTagName('script')[0];\n  firstScriptTag.parentNode.insertBefore(tag, firstScriptTag);\n});\n};\n\nif(typeof $3Dmolpromise === 'undefined') {\n$3Dmolpromise = null;\n  $3Dmolpromise = loadScriptAsync('https://cdnjs.cloudflare.com/ajax/libs/3Dmol/2.4.0/3Dmol-min.js');\n}\n\nvar viewer_17298627267514188 = null;\nvar warn = document.getElementById(\"3dmolwarning_17298627267514188\");\nif(warn) {\n    warn.parentNode.removeChild(warn);\n}\n$3Dmolpromise.then(function() {\nviewer_17298627267514188 = $3Dmol.createViewer(document.getElementById(\"3dmolviewer_17298627267514188\"),{backgroundColor:\"white\"});\n$3Dmol.download(\"pdb:1A3N\", viewer_17298627267514188, {}, function() {\nviewer_17298627267514188.zoomTo();\n\tviewer_17298627267514188.setStyle({\"elem\": \"O\"},{\"sphere\": {\"color\": \"red\", \"scale\": 0.3}});\n\tviewer_17298627267514188.setStyle({\"elem\": \"C\"},{\"sphere\": {\"color\": \"green\", \"scale\": 0.3}});\n\tviewer_17298627267514188.zoomTo();\nviewer_17298627267514188.render();\n})\n});\n</script>",
      "text/html": [
       "<div id=\"3dmolviewer_17298627267514188\"  style=\"position: relative; width: 800px; height: 600px;\">\n",
       "        <p id=\"3dmolwarning_17298627267514188\" style=\"background-color:#ffcccc;color:black\">3Dmol.js failed to load for some reason.  Please check your browser console for error messages.<br></p>\n",
       "        </div>\n",
       "<script>\n",
       "\n",
       "var loadScriptAsync = function(uri){\n",
       "  return new Promise((resolve, reject) => {\n",
       "    //this is to ignore the existence of requirejs amd\n",
       "    var savedexports, savedmodule;\n",
       "    if (typeof exports !== 'undefined') savedexports = exports;\n",
       "    else exports = {}\n",
       "    if (typeof module !== 'undefined') savedmodule = module;\n",
       "    else module = {}\n",
       "\n",
       "    var tag = document.createElement('script');\n",
       "    tag.src = uri;\n",
       "    tag.async = true;\n",
       "    tag.onload = () => {\n",
       "        exports = savedexports;\n",
       "        module = savedmodule;\n",
       "        resolve();\n",
       "    };\n",
       "  var firstScriptTag = document.getElementsByTagName('script')[0];\n",
       "  firstScriptTag.parentNode.insertBefore(tag, firstScriptTag);\n",
       "});\n",
       "};\n",
       "\n",
       "if(typeof $3Dmolpromise === 'undefined') {\n",
       "$3Dmolpromise = null;\n",
       "  $3Dmolpromise = loadScriptAsync('https://cdnjs.cloudflare.com/ajax/libs/3Dmol/2.4.0/3Dmol-min.js');\n",
       "}\n",
       "\n",
       "var viewer_17298627267514188 = null;\n",
       "var warn = document.getElementById(\"3dmolwarning_17298627267514188\");\n",
       "if(warn) {\n",
       "    warn.parentNode.removeChild(warn);\n",
       "}\n",
       "$3Dmolpromise.then(function() {\n",
       "viewer_17298627267514188 = $3Dmol.createViewer(document.getElementById(\"3dmolviewer_17298627267514188\"),{backgroundColor:\"white\"});\n",
       "$3Dmol.download(\"pdb:1A3N\", viewer_17298627267514188, {}, function() {\n",
       "viewer_17298627267514188.zoomTo();\n",
       "\tviewer_17298627267514188.setStyle({\"elem\": \"O\"},{\"sphere\": {\"color\": \"red\", \"scale\": 0.3}});\n",
       "\tviewer_17298627267514188.setStyle({\"elem\": \"C\"},{\"sphere\": {\"color\": \"green\", \"scale\": 0.3}});\n",
       "\tviewer_17298627267514188.zoomTo();\n",
       "viewer_17298627267514188.render();\n",
       "})\n",
       "});\n",
       "</script>"
      ]
     },
     "execution_count": null,
     "metadata": {},
     "output_type": "display_data"
    }
   ],
   "source": []
  },
  {
   "cell_type": "code",
   "execution_count": null,
   "id": "b914109d",
   "metadata": {
    "execution": {
     "iopub.execute_input": "2024-10-25T13:25:26.760106Z",
     "iopub.status.busy": "2024-10-25T13:25:26.759990Z",
     "iopub.status.idle": "2024-10-25T13:25:26.762699Z",
     "shell.execute_reply": "2024-10-25T13:25:26.762348Z"
    },
    "papermill": {
     "duration": 0.006627,
     "end_time": "2024-10-25T13:25:26.763786",
     "exception": false,
     "start_time": "2024-10-25T13:25:26.757159",
     "status": "completed"
    },
    "tags": []
   },
   "outputs": [
    {
     "data": {
      "application/3dmoljs_load.v0": "<div id=\"3dmolviewer_1729862726761037\"  style=\"position: relative; width: 800px; height: 600px;\">\n        <p id=\"3dmolwarning_1729862726761037\" style=\"background-color:#ffcccc;color:black\">3Dmol.js failed to load for some reason.  Please check your browser console for error messages.<br></p>\n        </div>\n<script>\n\nvar loadScriptAsync = function(uri){\n  return new Promise((resolve, reject) => {\n    //this is to ignore the existence of requirejs amd\n    var savedexports, savedmodule;\n    if (typeof exports !== 'undefined') savedexports = exports;\n    else exports = {}\n    if (typeof module !== 'undefined') savedmodule = module;\n    else module = {}\n\n    var tag = document.createElement('script');\n    tag.src = uri;\n    tag.async = true;\n    tag.onload = () => {\n        exports = savedexports;\n        module = savedmodule;\n        resolve();\n    };\n  var firstScriptTag = document.getElementsByTagName('script')[0];\n  firstScriptTag.parentNode.insertBefore(tag, firstScriptTag);\n});\n};\n\nif(typeof $3Dmolpromise === 'undefined') {\n$3Dmolpromise = null;\n  $3Dmolpromise = loadScriptAsync('https://cdnjs.cloudflare.com/ajax/libs/3Dmol/2.4.0/3Dmol-min.js');\n}\n\nvar viewer_1729862726761037 = null;\nvar warn = document.getElementById(\"3dmolwarning_1729862726761037\");\nif(warn) {\n    warn.parentNode.removeChild(warn);\n}\n$3Dmolpromise.then(function() {\nviewer_1729862726761037 = $3Dmol.createViewer(document.getElementById(\"3dmolviewer_1729862726761037\"),{backgroundColor:\"white\"});\n$3Dmol.download(\"pdb:1A3N\", viewer_1729862726761037, {}, function() {\nviewer_1729862726761037.zoomTo();\n\tviewer_1729862726761037.setStyle({\"chain\": \"A\"},{\"cartoon\": {\"color\": \"blue\"}});\n\tviewer_1729862726761037.setStyle({\"chain\": \"B\"},{\"cartoon\": {\"color\": \"green\"}});\n\tviewer_1729862726761037.setStyle({\"chain\": \"C\"},{\"cartoon\": {\"color\": \"red\"}});\n\tviewer_1729862726761037.zoomTo();\nviewer_1729862726761037.render();\n})\n});\n</script>",
      "text/html": [
       "<div id=\"3dmolviewer_1729862726761037\"  style=\"position: relative; width: 800px; height: 600px;\">\n",
       "        <p id=\"3dmolwarning_1729862726761037\" style=\"background-color:#ffcccc;color:black\">3Dmol.js failed to load for some reason.  Please check your browser console for error messages.<br></p>\n",
       "        </div>\n",
       "<script>\n",
       "\n",
       "var loadScriptAsync = function(uri){\n",
       "  return new Promise((resolve, reject) => {\n",
       "    //this is to ignore the existence of requirejs amd\n",
       "    var savedexports, savedmodule;\n",
       "    if (typeof exports !== 'undefined') savedexports = exports;\n",
       "    else exports = {}\n",
       "    if (typeof module !== 'undefined') savedmodule = module;\n",
       "    else module = {}\n",
       "\n",
       "    var tag = document.createElement('script');\n",
       "    tag.src = uri;\n",
       "    tag.async = true;\n",
       "    tag.onload = () => {\n",
       "        exports = savedexports;\n",
       "        module = savedmodule;\n",
       "        resolve();\n",
       "    };\n",
       "  var firstScriptTag = document.getElementsByTagName('script')[0];\n",
       "  firstScriptTag.parentNode.insertBefore(tag, firstScriptTag);\n",
       "});\n",
       "};\n",
       "\n",
       "if(typeof $3Dmolpromise === 'undefined') {\n",
       "$3Dmolpromise = null;\n",
       "  $3Dmolpromise = loadScriptAsync('https://cdnjs.cloudflare.com/ajax/libs/3Dmol/2.4.0/3Dmol-min.js');\n",
       "}\n",
       "\n",
       "var viewer_1729862726761037 = null;\n",
       "var warn = document.getElementById(\"3dmolwarning_1729862726761037\");\n",
       "if(warn) {\n",
       "    warn.parentNode.removeChild(warn);\n",
       "}\n",
       "$3Dmolpromise.then(function() {\n",
       "viewer_1729862726761037 = $3Dmol.createViewer(document.getElementById(\"3dmolviewer_1729862726761037\"),{backgroundColor:\"white\"});\n",
       "$3Dmol.download(\"pdb:1A3N\", viewer_1729862726761037, {}, function() {\n",
       "viewer_1729862726761037.zoomTo();\n",
       "\tviewer_1729862726761037.setStyle({\"chain\": \"A\"},{\"cartoon\": {\"color\": \"blue\"}});\n",
       "\tviewer_1729862726761037.setStyle({\"chain\": \"B\"},{\"cartoon\": {\"color\": \"green\"}});\n",
       "\tviewer_1729862726761037.setStyle({\"chain\": \"C\"},{\"cartoon\": {\"color\": \"red\"}});\n",
       "\tviewer_1729862726761037.zoomTo();\n",
       "viewer_1729862726761037.render();\n",
       "})\n",
       "});\n",
       "</script>"
      ]
     },
     "execution_count": null,
     "metadata": {},
     "output_type": "display_data"
    }
   ],
   "source": []
  },
  {
   "cell_type": "markdown",
   "id": "e2e03db1",
   "metadata": {
    "papermill": {
     "duration": 0.002376,
     "end_time": "2024-10-25T13:25:26.768713",
     "exception": false,
     "start_time": "2024-10-25T13:25:26.766337",
     "status": "completed"
    },
    "tags": []
   },
   "source": [
    "### Residue Number `resi`"
   ]
  },
  {
   "cell_type": "code",
   "execution_count": null,
   "id": "d2421f4b",
   "metadata": {
    "execution": {
     "iopub.execute_input": "2024-10-25T13:25:26.774774Z",
     "iopub.status.busy": "2024-10-25T13:25:26.774627Z",
     "iopub.status.idle": "2024-10-25T13:25:26.777095Z",
     "shell.execute_reply": "2024-10-25T13:25:26.776853Z"
    },
    "papermill": {
     "duration": 0.00618,
     "end_time": "2024-10-25T13:25:26.777864",
     "exception": false,
     "start_time": "2024-10-25T13:25:26.771684",
     "status": "completed"
    },
    "tags": []
   },
   "outputs": [
    {
     "data": {
      "application/3dmoljs_load.v0": "<div id=\"3dmolviewer_172986272677551\"  style=\"position: relative; width: 800px; height: 600px;\">\n        <p id=\"3dmolwarning_172986272677551\" style=\"background-color:#ffcccc;color:black\">3Dmol.js failed to load for some reason.  Please check your browser console for error messages.<br></p>\n        </div>\n<script>\n\nvar loadScriptAsync = function(uri){\n  return new Promise((resolve, reject) => {\n    //this is to ignore the existence of requirejs amd\n    var savedexports, savedmodule;\n    if (typeof exports !== 'undefined') savedexports = exports;\n    else exports = {}\n    if (typeof module !== 'undefined') savedmodule = module;\n    else module = {}\n\n    var tag = document.createElement('script');\n    tag.src = uri;\n    tag.async = true;\n    tag.onload = () => {\n        exports = savedexports;\n        module = savedmodule;\n        resolve();\n    };\n  var firstScriptTag = document.getElementsByTagName('script')[0];\n  firstScriptTag.parentNode.insertBefore(tag, firstScriptTag);\n});\n};\n\nif(typeof $3Dmolpromise === 'undefined') {\n$3Dmolpromise = null;\n  $3Dmolpromise = loadScriptAsync('https://cdnjs.cloudflare.com/ajax/libs/3Dmol/2.4.0/3Dmol-min.js');\n}\n\nvar viewer_172986272677551 = null;\nvar warn = document.getElementById(\"3dmolwarning_172986272677551\");\nif(warn) {\n    warn.parentNode.removeChild(warn);\n}\n$3Dmolpromise.then(function() {\nviewer_172986272677551 = $3Dmol.createViewer(document.getElementById(\"3dmolviewer_172986272677551\"),{backgroundColor:\"white\"});\n$3Dmol.download(\"pdb:1A3N\", viewer_172986272677551, {}, function() {\nviewer_172986272677551.zoomTo();\n\tviewer_172986272677551.setStyle({\"chain\": \"A\", \"resi\": 65},{\"stick\": {\"color\": \"green\", \"radius\": 0.5}});\n\tviewer_172986272677551.setStyle({\"chain\": \"B\", \"resi\": 72},{\"stick\": {\"color\": \"yellow\", \"radius\": 0.5}});\n\tviewer_172986272677551.zoomTo();\nviewer_172986272677551.render();\n})\n});\n</script>",
      "text/html": [
       "<div id=\"3dmolviewer_172986272677551\"  style=\"position: relative; width: 800px; height: 600px;\">\n",
       "        <p id=\"3dmolwarning_172986272677551\" style=\"background-color:#ffcccc;color:black\">3Dmol.js failed to load for some reason.  Please check your browser console for error messages.<br></p>\n",
       "        </div>\n",
       "<script>\n",
       "\n",
       "var loadScriptAsync = function(uri){\n",
       "  return new Promise((resolve, reject) => {\n",
       "    //this is to ignore the existence of requirejs amd\n",
       "    var savedexports, savedmodule;\n",
       "    if (typeof exports !== 'undefined') savedexports = exports;\n",
       "    else exports = {}\n",
       "    if (typeof module !== 'undefined') savedmodule = module;\n",
       "    else module = {}\n",
       "\n",
       "    var tag = document.createElement('script');\n",
       "    tag.src = uri;\n",
       "    tag.async = true;\n",
       "    tag.onload = () => {\n",
       "        exports = savedexports;\n",
       "        module = savedmodule;\n",
       "        resolve();\n",
       "    };\n",
       "  var firstScriptTag = document.getElementsByTagName('script')[0];\n",
       "  firstScriptTag.parentNode.insertBefore(tag, firstScriptTag);\n",
       "});\n",
       "};\n",
       "\n",
       "if(typeof $3Dmolpromise === 'undefined') {\n",
       "$3Dmolpromise = null;\n",
       "  $3Dmolpromise = loadScriptAsync('https://cdnjs.cloudflare.com/ajax/libs/3Dmol/2.4.0/3Dmol-min.js');\n",
       "}\n",
       "\n",
       "var viewer_172986272677551 = null;\n",
       "var warn = document.getElementById(\"3dmolwarning_172986272677551\");\n",
       "if(warn) {\n",
       "    warn.parentNode.removeChild(warn);\n",
       "}\n",
       "$3Dmolpromise.then(function() {\n",
       "viewer_172986272677551 = $3Dmol.createViewer(document.getElementById(\"3dmolviewer_172986272677551\"),{backgroundColor:\"white\"});\n",
       "$3Dmol.download(\"pdb:1A3N\", viewer_172986272677551, {}, function() {\n",
       "viewer_172986272677551.zoomTo();\n",
       "\tviewer_172986272677551.setStyle({\"chain\": \"A\", \"resi\": 65},{\"stick\": {\"color\": \"green\", \"radius\": 0.5}});\n",
       "\tviewer_172986272677551.setStyle({\"chain\": \"B\", \"resi\": 72},{\"stick\": {\"color\": \"yellow\", \"radius\": 0.5}});\n",
       "\tviewer_172986272677551.zoomTo();\n",
       "viewer_172986272677551.render();\n",
       "})\n",
       "});\n",
       "</script>"
      ]
     },
     "execution_count": null,
     "metadata": {},
     "output_type": "display_data"
    }
   ],
   "source": []
  },
  {
   "cell_type": "markdown",
   "id": "3176f05f",
   "metadata": {
    "papermill": {
     "duration": 0.002628,
     "end_time": "2024-10-25T13:25:26.783754",
     "exception": false,
     "start_time": "2024-10-25T13:25:26.781126",
     "status": "completed"
    },
    "tags": []
   },
   "source": [
    "### Multiple parts at once"
   ]
  },
  {
   "cell_type": "code",
   "execution_count": null,
   "id": "04f3a8f5",
   "metadata": {
    "execution": {
     "iopub.execute_input": "2024-10-25T13:25:26.790223Z",
     "iopub.status.busy": "2024-10-25T13:25:26.789338Z",
     "iopub.status.idle": "2024-10-25T13:25:26.794322Z",
     "shell.execute_reply": "2024-10-25T13:25:26.794040Z"
    },
    "papermill": {
     "duration": 0.009188,
     "end_time": "2024-10-25T13:25:26.795473",
     "exception": false,
     "start_time": "2024-10-25T13:25:26.786285",
     "status": "completed"
    },
    "tags": []
   },
   "outputs": [
    {
     "data": {
      "application/3dmoljs_load.v0": "<div id=\"3dmolviewer_1729862726791805\"  style=\"position: relative; width: 800px; height: 600px;\">\n        <p id=\"3dmolwarning_1729862726791805\" style=\"background-color:#ffcccc;color:black\">3Dmol.js failed to load for some reason.  Please check your browser console for error messages.<br></p>\n        </div>\n<script>\n\nvar loadScriptAsync = function(uri){\n  return new Promise((resolve, reject) => {\n    //this is to ignore the existence of requirejs amd\n    var savedexports, savedmodule;\n    if (typeof exports !== 'undefined') savedexports = exports;\n    else exports = {}\n    if (typeof module !== 'undefined') savedmodule = module;\n    else module = {}\n\n    var tag = document.createElement('script');\n    tag.src = uri;\n    tag.async = true;\n    tag.onload = () => {\n        exports = savedexports;\n        module = savedmodule;\n        resolve();\n    };\n  var firstScriptTag = document.getElementsByTagName('script')[0];\n  firstScriptTag.parentNode.insertBefore(tag, firstScriptTag);\n});\n};\n\nif(typeof $3Dmolpromise === 'undefined') {\n$3Dmolpromise = null;\n  $3Dmolpromise = loadScriptAsync('https://cdnjs.cloudflare.com/ajax/libs/3Dmol/2.4.0/3Dmol-min.js');\n}\n\nvar viewer_1729862726791805 = null;\nvar warn = document.getElementById(\"3dmolwarning_1729862726791805\");\nif(warn) {\n    warn.parentNode.removeChild(warn);\n}\n$3Dmolpromise.then(function() {\nviewer_1729862726791805 = $3Dmol.createViewer(document.getElementById(\"3dmolviewer_1729862726791805\"),{backgroundColor:\"white\"});\n$3Dmol.download(\"pdb:1A3N\", viewer_1729862726791805, {}, function() {\nviewer_1729862726791805.zoomTo();\n\tviewer_1729862726791805.setStyle({\"chain\": \"A\"},{\"stick\": {\"color\": \"green\", \"radius\": 0.5}});\n\tviewer_1729862726791805.setStyle({\"chain\": \"B\", \"resi\": 72},{\"stick\": {\"color\": \"red\", \"radius\": 0.5}});\n\tviewer_1729862726791805.setStyle({\"elem\": \"O\"},{\"sphere\": {\"color\": \"yellow\", \"scale\": 0.3}});\n\tviewer_1729862726791805.setStyle({\"resn\": \"HEM\"},{\"stick\": {\"color\": \"blue\", \"radius\": 0.3}});\n\tviewer_1729862726791805.zoomTo();\nviewer_1729862726791805.render();\n})\n});\n</script>",
      "text/html": [
       "<div id=\"3dmolviewer_1729862726791805\"  style=\"position: relative; width: 800px; height: 600px;\">\n",
       "        <p id=\"3dmolwarning_1729862726791805\" style=\"background-color:#ffcccc;color:black\">3Dmol.js failed to load for some reason.  Please check your browser console for error messages.<br></p>\n",
       "        </div>\n",
       "<script>\n",
       "\n",
       "var loadScriptAsync = function(uri){\n",
       "  return new Promise((resolve, reject) => {\n",
       "    //this is to ignore the existence of requirejs amd\n",
       "    var savedexports, savedmodule;\n",
       "    if (typeof exports !== 'undefined') savedexports = exports;\n",
       "    else exports = {}\n",
       "    if (typeof module !== 'undefined') savedmodule = module;\n",
       "    else module = {}\n",
       "\n",
       "    var tag = document.createElement('script');\n",
       "    tag.src = uri;\n",
       "    tag.async = true;\n",
       "    tag.onload = () => {\n",
       "        exports = savedexports;\n",
       "        module = savedmodule;\n",
       "        resolve();\n",
       "    };\n",
       "  var firstScriptTag = document.getElementsByTagName('script')[0];\n",
       "  firstScriptTag.parentNode.insertBefore(tag, firstScriptTag);\n",
       "});\n",
       "};\n",
       "\n",
       "if(typeof $3Dmolpromise === 'undefined') {\n",
       "$3Dmolpromise = null;\n",
       "  $3Dmolpromise = loadScriptAsync('https://cdnjs.cloudflare.com/ajax/libs/3Dmol/2.4.0/3Dmol-min.js');\n",
       "}\n",
       "\n",
       "var viewer_1729862726791805 = null;\n",
       "var warn = document.getElementById(\"3dmolwarning_1729862726791805\");\n",
       "if(warn) {\n",
       "    warn.parentNode.removeChild(warn);\n",
       "}\n",
       "$3Dmolpromise.then(function() {\n",
       "viewer_1729862726791805 = $3Dmol.createViewer(document.getElementById(\"3dmolviewer_1729862726791805\"),{backgroundColor:\"white\"});\n",
       "$3Dmol.download(\"pdb:1A3N\", viewer_1729862726791805, {}, function() {\n",
       "viewer_1729862726791805.zoomTo();\n",
       "\tviewer_1729862726791805.setStyle({\"chain\": \"A\"},{\"stick\": {\"color\": \"green\", \"radius\": 0.5}});\n",
       "\tviewer_1729862726791805.setStyle({\"chain\": \"B\", \"resi\": 72},{\"stick\": {\"color\": \"red\", \"radius\": 0.5}});\n",
       "\tviewer_1729862726791805.setStyle({\"elem\": \"O\"},{\"sphere\": {\"color\": \"yellow\", \"scale\": 0.3}});\n",
       "\tviewer_1729862726791805.setStyle({\"resn\": \"HEM\"},{\"stick\": {\"color\": \"blue\", \"radius\": 0.3}});\n",
       "\tviewer_1729862726791805.zoomTo();\n",
       "viewer_1729862726791805.render();\n",
       "})\n",
       "});\n",
       "</script>"
      ]
     },
     "execution_count": null,
     "metadata": {},
     "output_type": "display_data"
    }
   ],
   "source": []
  },
  {
   "cell_type": "code",
   "execution_count": null,
   "id": "00c6adba",
   "metadata": {
    "execution": {
     "iopub.execute_input": "2024-10-25T13:25:26.801902Z",
     "iopub.status.busy": "2024-10-25T13:25:26.801785Z",
     "iopub.status.idle": "2024-10-25T13:25:26.805305Z",
     "shell.execute_reply": "2024-10-25T13:25:26.804952Z"
    },
    "papermill": {
     "duration": 0.00815,
     "end_time": "2024-10-25T13:25:26.806571",
     "exception": false,
     "start_time": "2024-10-25T13:25:26.798421",
     "status": "completed"
    },
    "tags": []
   },
   "outputs": [
    {
     "data": {
      "application/3dmoljs_load.v0": "<div id=\"3dmolviewer_1729862726802767\"  style=\"position: relative; width: 800px; height: 600px;\">\n        <p id=\"3dmolwarning_1729862726802767\" style=\"background-color:#ffcccc;color:black\">3Dmol.js failed to load for some reason.  Please check your browser console for error messages.<br></p>\n        </div>\n<script>\n\nvar loadScriptAsync = function(uri){\n  return new Promise((resolve, reject) => {\n    //this is to ignore the existence of requirejs amd\n    var savedexports, savedmodule;\n    if (typeof exports !== 'undefined') savedexports = exports;\n    else exports = {}\n    if (typeof module !== 'undefined') savedmodule = module;\n    else module = {}\n\n    var tag = document.createElement('script');\n    tag.src = uri;\n    tag.async = true;\n    tag.onload = () => {\n        exports = savedexports;\n        module = savedmodule;\n        resolve();\n    };\n  var firstScriptTag = document.getElementsByTagName('script')[0];\n  firstScriptTag.parentNode.insertBefore(tag, firstScriptTag);\n});\n};\n\nif(typeof $3Dmolpromise === 'undefined') {\n$3Dmolpromise = null;\n  $3Dmolpromise = loadScriptAsync('https://cdnjs.cloudflare.com/ajax/libs/3Dmol/2.4.0/3Dmol-min.js');\n}\n\nvar viewer_1729862726802767 = null;\nvar warn = document.getElementById(\"3dmolwarning_1729862726802767\");\nif(warn) {\n    warn.parentNode.removeChild(warn);\n}\n$3Dmolpromise.then(function() {\nviewer_1729862726802767 = $3Dmol.createViewer(document.getElementById(\"3dmolviewer_1729862726802767\"),{backgroundColor:\"white\"});\n$3Dmol.download(\"pdb:1zni\", viewer_1729862726802767, {}, function() {\nviewer_1729862726802767.zoomTo();\n\tviewer_1729862726802767.setStyle({\"stick\": {\"color\": \"spectrum\"}});\n\tviewer_1729862726802767.setStyle({\"elem\": \"Zn\"},{\"sphere\": {\"scale\": 0.3}});\n\tviewer_1729862726802767.setStyle({\"elem\": \"C\"},{\"stick\": {\"color\": \"blue\"}});\n\tviewer_1729862726802767.setStyle({\"elem\": \"O\"},{\"sphere\": {\"color\": \"lightgreen\", \"scale\": 0.3}});\n\tviewer_1729862726802767.setStyle({\"elem\": \"N\"},{\"stick\": {\"color\": \"red\"}});\nviewer_1729862726802767.render();\n})\n});\n</script>",
      "text/html": [
       "<div id=\"3dmolviewer_1729862726802767\"  style=\"position: relative; width: 800px; height: 600px;\">\n",
       "        <p id=\"3dmolwarning_1729862726802767\" style=\"background-color:#ffcccc;color:black\">3Dmol.js failed to load for some reason.  Please check your browser console for error messages.<br></p>\n",
       "        </div>\n",
       "<script>\n",
       "\n",
       "var loadScriptAsync = function(uri){\n",
       "  return new Promise((resolve, reject) => {\n",
       "    //this is to ignore the existence of requirejs amd\n",
       "    var savedexports, savedmodule;\n",
       "    if (typeof exports !== 'undefined') savedexports = exports;\n",
       "    else exports = {}\n",
       "    if (typeof module !== 'undefined') savedmodule = module;\n",
       "    else module = {}\n",
       "\n",
       "    var tag = document.createElement('script');\n",
       "    tag.src = uri;\n",
       "    tag.async = true;\n",
       "    tag.onload = () => {\n",
       "        exports = savedexports;\n",
       "        module = savedmodule;\n",
       "        resolve();\n",
       "    };\n",
       "  var firstScriptTag = document.getElementsByTagName('script')[0];\n",
       "  firstScriptTag.parentNode.insertBefore(tag, firstScriptTag);\n",
       "});\n",
       "};\n",
       "\n",
       "if(typeof $3Dmolpromise === 'undefined') {\n",
       "$3Dmolpromise = null;\n",
       "  $3Dmolpromise = loadScriptAsync('https://cdnjs.cloudflare.com/ajax/libs/3Dmol/2.4.0/3Dmol-min.js');\n",
       "}\n",
       "\n",
       "var viewer_1729862726802767 = null;\n",
       "var warn = document.getElementById(\"3dmolwarning_1729862726802767\");\n",
       "if(warn) {\n",
       "    warn.parentNode.removeChild(warn);\n",
       "}\n",
       "$3Dmolpromise.then(function() {\n",
       "viewer_1729862726802767 = $3Dmol.createViewer(document.getElementById(\"3dmolviewer_1729862726802767\"),{backgroundColor:\"white\"});\n",
       "$3Dmol.download(\"pdb:1zni\", viewer_1729862726802767, {}, function() {\n",
       "viewer_1729862726802767.zoomTo();\n",
       "\tviewer_1729862726802767.setStyle({\"stick\": {\"color\": \"spectrum\"}});\n",
       "\tviewer_1729862726802767.setStyle({\"elem\": \"Zn\"},{\"sphere\": {\"scale\": 0.3}});\n",
       "\tviewer_1729862726802767.setStyle({\"elem\": \"C\"},{\"stick\": {\"color\": \"blue\"}});\n",
       "\tviewer_1729862726802767.setStyle({\"elem\": \"O\"},{\"sphere\": {\"color\": \"lightgreen\", \"scale\": 0.3}});\n",
       "\tviewer_1729862726802767.setStyle({\"elem\": \"N\"},{\"stick\": {\"color\": \"red\"}});\n",
       "viewer_1729862726802767.render();\n",
       "})\n",
       "});\n",
       "</script>"
      ]
     },
     "execution_count": null,
     "metadata": {},
     "output_type": "display_data"
    }
   ],
   "source": []
  },
  {
   "cell_type": "markdown",
   "id": "81304db5",
   "metadata": {
    "papermill": {
     "duration": 0.002677,
     "end_time": "2024-10-25T13:25:26.813354",
     "exception": false,
     "start_time": "2024-10-25T13:25:26.810677",
     "status": "completed"
    },
    "tags": []
   },
   "source": [
    "---"
   ]
  },
  {
   "cell_type": "markdown",
   "id": "a5c7e4a6",
   "metadata": {
    "papermill": {
     "duration": 0.003257,
     "end_time": "2024-10-25T13:25:26.820541",
     "exception": false,
     "start_time": "2024-10-25T13:25:26.817284",
     "status": "completed"
    },
    "tags": []
   },
   "source": [
    "## Surface Representation\n",
    "\n",
    "Surface models can visualize molecular surfaces and volumes."
   ]
  },
  {
   "cell_type": "markdown",
   "id": "bd6daff2",
   "metadata": {
    "papermill": {
     "duration": 0.002414,
     "end_time": "2024-10-25T13:25:26.825668",
     "exception": false,
     "start_time": "2024-10-25T13:25:26.823254",
     "status": "completed"
    },
    "tags": []
   },
   "source": [
    "### VDW: Van der Waals Surface"
   ]
  },
  {
   "cell_type": "code",
   "execution_count": null,
   "id": "910f4432",
   "metadata": {
    "execution": {
     "iopub.execute_input": "2024-10-25T13:25:26.832896Z",
     "iopub.status.busy": "2024-10-25T13:25:26.832760Z",
     "iopub.status.idle": "2024-10-25T13:25:26.835176Z",
     "shell.execute_reply": "2024-10-25T13:25:26.834918Z"
    },
    "papermill": {
     "duration": 0.006665,
     "end_time": "2024-10-25T13:25:26.836066",
     "exception": false,
     "start_time": "2024-10-25T13:25:26.829401",
     "status": "completed"
    },
    "tags": []
   },
   "outputs": [
    {
     "data": {
      "application/3dmoljs_load.v0": "<div id=\"3dmolviewer_1729862726833581\"  style=\"position: relative; width: 600px; height: 400px;\">\n        <p id=\"3dmolwarning_1729862726833581\" style=\"background-color:#ffcccc;color:black\">3Dmol.js failed to load for some reason.  Please check your browser console for error messages.<br></p>\n        </div>\n<script>\n\nvar loadScriptAsync = function(uri){\n  return new Promise((resolve, reject) => {\n    //this is to ignore the existence of requirejs amd\n    var savedexports, savedmodule;\n    if (typeof exports !== 'undefined') savedexports = exports;\n    else exports = {}\n    if (typeof module !== 'undefined') savedmodule = module;\n    else module = {}\n\n    var tag = document.createElement('script');\n    tag.src = uri;\n    tag.async = true;\n    tag.onload = () => {\n        exports = savedexports;\n        module = savedmodule;\n        resolve();\n    };\n  var firstScriptTag = document.getElementsByTagName('script')[0];\n  firstScriptTag.parentNode.insertBefore(tag, firstScriptTag);\n});\n};\n\nif(typeof $3Dmolpromise === 'undefined') {\n$3Dmolpromise = null;\n  $3Dmolpromise = loadScriptAsync('https://cdnjs.cloudflare.com/ajax/libs/3Dmol/2.4.0/3Dmol-min.js');\n}\n\nvar viewer_1729862726833581 = null;\nvar warn = document.getElementById(\"3dmolwarning_1729862726833581\");\nif(warn) {\n    warn.parentNode.removeChild(warn);\n}\n$3Dmolpromise.then(function() {\nviewer_1729862726833581 = $3Dmol.createViewer(document.getElementById(\"3dmolviewer_1729862726833581\"),{backgroundColor:\"white\"});\n$3Dmol.download(\"cid:2519\", viewer_1729862726833581, {}, function() {\nviewer_1729862726833581.zoomTo();\n\tviewer_1729862726833581.setStyle({\"stick\": {\"radius\": 0.2}, \"sphere\": {\"scale\": 0.3}});\n\tviewer_1729862726833581.addSurface(1,{\"opacity\": 0.7, \"colorscheme\": \"greenCarbon\"});\n\tviewer_1729862726833581.zoomTo();\nviewer_1729862726833581.render();\n})\n});\n</script>",
      "text/html": [
       "<div id=\"3dmolviewer_1729862726833581\"  style=\"position: relative; width: 600px; height: 400px;\">\n",
       "        <p id=\"3dmolwarning_1729862726833581\" style=\"background-color:#ffcccc;color:black\">3Dmol.js failed to load for some reason.  Please check your browser console for error messages.<br></p>\n",
       "        </div>\n",
       "<script>\n",
       "\n",
       "var loadScriptAsync = function(uri){\n",
       "  return new Promise((resolve, reject) => {\n",
       "    //this is to ignore the existence of requirejs amd\n",
       "    var savedexports, savedmodule;\n",
       "    if (typeof exports !== 'undefined') savedexports = exports;\n",
       "    else exports = {}\n",
       "    if (typeof module !== 'undefined') savedmodule = module;\n",
       "    else module = {}\n",
       "\n",
       "    var tag = document.createElement('script');\n",
       "    tag.src = uri;\n",
       "    tag.async = true;\n",
       "    tag.onload = () => {\n",
       "        exports = savedexports;\n",
       "        module = savedmodule;\n",
       "        resolve();\n",
       "    };\n",
       "  var firstScriptTag = document.getElementsByTagName('script')[0];\n",
       "  firstScriptTag.parentNode.insertBefore(tag, firstScriptTag);\n",
       "});\n",
       "};\n",
       "\n",
       "if(typeof $3Dmolpromise === 'undefined') {\n",
       "$3Dmolpromise = null;\n",
       "  $3Dmolpromise = loadScriptAsync('https://cdnjs.cloudflare.com/ajax/libs/3Dmol/2.4.0/3Dmol-min.js');\n",
       "}\n",
       "\n",
       "var viewer_1729862726833581 = null;\n",
       "var warn = document.getElementById(\"3dmolwarning_1729862726833581\");\n",
       "if(warn) {\n",
       "    warn.parentNode.removeChild(warn);\n",
       "}\n",
       "$3Dmolpromise.then(function() {\n",
       "viewer_1729862726833581 = $3Dmol.createViewer(document.getElementById(\"3dmolviewer_1729862726833581\"),{backgroundColor:\"white\"});\n",
       "$3Dmol.download(\"cid:2519\", viewer_1729862726833581, {}, function() {\n",
       "viewer_1729862726833581.zoomTo();\n",
       "\tviewer_1729862726833581.setStyle({\"stick\": {\"radius\": 0.2}, \"sphere\": {\"scale\": 0.3}});\n",
       "\tviewer_1729862726833581.addSurface(1,{\"opacity\": 0.7, \"colorscheme\": \"greenCarbon\"});\n",
       "\tviewer_1729862726833581.zoomTo();\n",
       "viewer_1729862726833581.render();\n",
       "})\n",
       "});\n",
       "</script>"
      ]
     },
     "execution_count": null,
     "metadata": {},
     "output_type": "display_data"
    }
   ],
   "source": []
  },
  {
   "cell_type": "markdown",
   "id": "b16c543f",
   "metadata": {
    "papermill": {
     "duration": 0.003042,
     "end_time": "2024-10-25T13:25:26.842083",
     "exception": false,
     "start_time": "2024-10-25T13:25:26.839041",
     "status": "completed"
    },
    "tags": []
   },
   "source": [
    "### SAS: Solvent Accessible Surface"
   ]
  },
  {
   "cell_type": "code",
   "execution_count": null,
   "id": "6efc0c3c",
   "metadata": {
    "execution": {
     "iopub.execute_input": "2024-10-25T13:25:26.849655Z",
     "iopub.status.busy": "2024-10-25T13:25:26.849519Z",
     "iopub.status.idle": "2024-10-25T13:25:26.851819Z",
     "shell.execute_reply": "2024-10-25T13:25:26.851589Z"
    },
    "papermill": {
     "duration": 0.006993,
     "end_time": "2024-10-25T13:25:26.852609",
     "exception": false,
     "start_time": "2024-10-25T13:25:26.845616",
     "status": "completed"
    },
    "tags": []
   },
   "outputs": [
    {
     "data": {
      "application/3dmoljs_load.v0": "<div id=\"3dmolviewer_17298627268503191\"  style=\"position: relative; width: 600px; height: 400px;\">\n        <p id=\"3dmolwarning_17298627268503191\" style=\"background-color:#ffcccc;color:black\">3Dmol.js failed to load for some reason.  Please check your browser console for error messages.<br></p>\n        </div>\n<script>\n\nvar loadScriptAsync = function(uri){\n  return new Promise((resolve, reject) => {\n    //this is to ignore the existence of requirejs amd\n    var savedexports, savedmodule;\n    if (typeof exports !== 'undefined') savedexports = exports;\n    else exports = {}\n    if (typeof module !== 'undefined') savedmodule = module;\n    else module = {}\n\n    var tag = document.createElement('script');\n    tag.src = uri;\n    tag.async = true;\n    tag.onload = () => {\n        exports = savedexports;\n        module = savedmodule;\n        resolve();\n    };\n  var firstScriptTag = document.getElementsByTagName('script')[0];\n  firstScriptTag.parentNode.insertBefore(tag, firstScriptTag);\n});\n};\n\nif(typeof $3Dmolpromise === 'undefined') {\n$3Dmolpromise = null;\n  $3Dmolpromise = loadScriptAsync('https://cdnjs.cloudflare.com/ajax/libs/3Dmol/2.4.0/3Dmol-min.js');\n}\n\nvar viewer_17298627268503191 = null;\nvar warn = document.getElementById(\"3dmolwarning_17298627268503191\");\nif(warn) {\n    warn.parentNode.removeChild(warn);\n}\n$3Dmolpromise.then(function() {\nviewer_17298627268503191 = $3Dmol.createViewer(document.getElementById(\"3dmolviewer_17298627268503191\"),{backgroundColor:\"white\"});\n$3Dmol.download(\"cid:2519\", viewer_17298627268503191, {}, function() {\nviewer_17298627268503191.zoomTo();\n\tviewer_17298627268503191.setStyle({\"stick\": {\"radius\": 0.2}, \"sphere\": {\"scale\": 0.3}});\n\tviewer_17298627268503191.addSurface(3,{\"opacity\": 0.7, \"colorscheme\": \"greenCarbon\"});\n\tviewer_17298627268503191.zoomTo();\nviewer_17298627268503191.render();\n})\n});\n</script>",
      "text/html": [
       "<div id=\"3dmolviewer_17298627268503191\"  style=\"position: relative; width: 600px; height: 400px;\">\n",
       "        <p id=\"3dmolwarning_17298627268503191\" style=\"background-color:#ffcccc;color:black\">3Dmol.js failed to load for some reason.  Please check your browser console for error messages.<br></p>\n",
       "        </div>\n",
       "<script>\n",
       "\n",
       "var loadScriptAsync = function(uri){\n",
       "  return new Promise((resolve, reject) => {\n",
       "    //this is to ignore the existence of requirejs amd\n",
       "    var savedexports, savedmodule;\n",
       "    if (typeof exports !== 'undefined') savedexports = exports;\n",
       "    else exports = {}\n",
       "    if (typeof module !== 'undefined') savedmodule = module;\n",
       "    else module = {}\n",
       "\n",
       "    var tag = document.createElement('script');\n",
       "    tag.src = uri;\n",
       "    tag.async = true;\n",
       "    tag.onload = () => {\n",
       "        exports = savedexports;\n",
       "        module = savedmodule;\n",
       "        resolve();\n",
       "    };\n",
       "  var firstScriptTag = document.getElementsByTagName('script')[0];\n",
       "  firstScriptTag.parentNode.insertBefore(tag, firstScriptTag);\n",
       "});\n",
       "};\n",
       "\n",
       "if(typeof $3Dmolpromise === 'undefined') {\n",
       "$3Dmolpromise = null;\n",
       "  $3Dmolpromise = loadScriptAsync('https://cdnjs.cloudflare.com/ajax/libs/3Dmol/2.4.0/3Dmol-min.js');\n",
       "}\n",
       "\n",
       "var viewer_17298627268503191 = null;\n",
       "var warn = document.getElementById(\"3dmolwarning_17298627268503191\");\n",
       "if(warn) {\n",
       "    warn.parentNode.removeChild(warn);\n",
       "}\n",
       "$3Dmolpromise.then(function() {\n",
       "viewer_17298627268503191 = $3Dmol.createViewer(document.getElementById(\"3dmolviewer_17298627268503191\"),{backgroundColor:\"white\"});\n",
       "$3Dmol.download(\"cid:2519\", viewer_17298627268503191, {}, function() {\n",
       "viewer_17298627268503191.zoomTo();\n",
       "\tviewer_17298627268503191.setStyle({\"stick\": {\"radius\": 0.2}, \"sphere\": {\"scale\": 0.3}});\n",
       "\tviewer_17298627268503191.addSurface(3,{\"opacity\": 0.7, \"colorscheme\": \"greenCarbon\"});\n",
       "\tviewer_17298627268503191.zoomTo();\n",
       "viewer_17298627268503191.render();\n",
       "})\n",
       "});\n",
       "</script>"
      ]
     },
     "execution_count": null,
     "metadata": {},
     "output_type": "display_data"
    }
   ],
   "source": []
  },
  {
   "cell_type": "markdown",
   "id": "8a5dc47f",
   "metadata": {
    "papermill": {
     "duration": 0.003067,
     "end_time": "2024-10-25T13:25:26.858776",
     "exception": false,
     "start_time": "2024-10-25T13:25:26.855709",
     "status": "completed"
    },
    "tags": []
   },
   "source": [
    "### MS: Molecular Surface"
   ]
  },
  {
   "cell_type": "code",
   "execution_count": null,
   "id": "8d1ddb92",
   "metadata": {
    "execution": {
     "iopub.execute_input": "2024-10-25T13:25:26.865086Z",
     "iopub.status.busy": "2024-10-25T13:25:26.864984Z",
     "iopub.status.idle": "2024-10-25T13:25:26.867140Z",
     "shell.execute_reply": "2024-10-25T13:25:26.866909Z"
    },
    "papermill": {
     "duration": 0.006315,
     "end_time": "2024-10-25T13:25:26.867882",
     "exception": false,
     "start_time": "2024-10-25T13:25:26.861567",
     "status": "completed"
    },
    "tags": []
   },
   "outputs": [
    {
     "data": {
      "application/3dmoljs_load.v0": "<div id=\"3dmolviewer_1729862726865642\"  style=\"position: relative; width: 600px; height: 400px;\">\n        <p id=\"3dmolwarning_1729862726865642\" style=\"background-color:#ffcccc;color:black\">3Dmol.js failed to load for some reason.  Please check your browser console for error messages.<br></p>\n        </div>\n<script>\n\nvar loadScriptAsync = function(uri){\n  return new Promise((resolve, reject) => {\n    //this is to ignore the existence of requirejs amd\n    var savedexports, savedmodule;\n    if (typeof exports !== 'undefined') savedexports = exports;\n    else exports = {}\n    if (typeof module !== 'undefined') savedmodule = module;\n    else module = {}\n\n    var tag = document.createElement('script');\n    tag.src = uri;\n    tag.async = true;\n    tag.onload = () => {\n        exports = savedexports;\n        module = savedmodule;\n        resolve();\n    };\n  var firstScriptTag = document.getElementsByTagName('script')[0];\n  firstScriptTag.parentNode.insertBefore(tag, firstScriptTag);\n});\n};\n\nif(typeof $3Dmolpromise === 'undefined') {\n$3Dmolpromise = null;\n  $3Dmolpromise = loadScriptAsync('https://cdnjs.cloudflare.com/ajax/libs/3Dmol/2.4.0/3Dmol-min.js');\n}\n\nvar viewer_1729862726865642 = null;\nvar warn = document.getElementById(\"3dmolwarning_1729862726865642\");\nif(warn) {\n    warn.parentNode.removeChild(warn);\n}\n$3Dmolpromise.then(function() {\nviewer_1729862726865642 = $3Dmol.createViewer(document.getElementById(\"3dmolviewer_1729862726865642\"),{backgroundColor:\"white\"});\n$3Dmol.download(\"cid:2519\", viewer_1729862726865642, {}, function() {\nviewer_1729862726865642.zoomTo();\n\tviewer_1729862726865642.setStyle({\"stick\": {\"radius\": 0.2}, \"sphere\": {\"scale\": 0.3}});\n\tviewer_1729862726865642.addSurface(2,{\"opacity\": 0.7, \"colorscheme\": \"greenCarbon\"});\n\tviewer_1729862726865642.zoomTo();\nviewer_1729862726865642.render();\n})\n});\n</script>",
      "text/html": [
       "<div id=\"3dmolviewer_1729862726865642\"  style=\"position: relative; width: 600px; height: 400px;\">\n",
       "        <p id=\"3dmolwarning_1729862726865642\" style=\"background-color:#ffcccc;color:black\">3Dmol.js failed to load for some reason.  Please check your browser console for error messages.<br></p>\n",
       "        </div>\n",
       "<script>\n",
       "\n",
       "var loadScriptAsync = function(uri){\n",
       "  return new Promise((resolve, reject) => {\n",
       "    //this is to ignore the existence of requirejs amd\n",
       "    var savedexports, savedmodule;\n",
       "    if (typeof exports !== 'undefined') savedexports = exports;\n",
       "    else exports = {}\n",
       "    if (typeof module !== 'undefined') savedmodule = module;\n",
       "    else module = {}\n",
       "\n",
       "    var tag = document.createElement('script');\n",
       "    tag.src = uri;\n",
       "    tag.async = true;\n",
       "    tag.onload = () => {\n",
       "        exports = savedexports;\n",
       "        module = savedmodule;\n",
       "        resolve();\n",
       "    };\n",
       "  var firstScriptTag = document.getElementsByTagName('script')[0];\n",
       "  firstScriptTag.parentNode.insertBefore(tag, firstScriptTag);\n",
       "});\n",
       "};\n",
       "\n",
       "if(typeof $3Dmolpromise === 'undefined') {\n",
       "$3Dmolpromise = null;\n",
       "  $3Dmolpromise = loadScriptAsync('https://cdnjs.cloudflare.com/ajax/libs/3Dmol/2.4.0/3Dmol-min.js');\n",
       "}\n",
       "\n",
       "var viewer_1729862726865642 = null;\n",
       "var warn = document.getElementById(\"3dmolwarning_1729862726865642\");\n",
       "if(warn) {\n",
       "    warn.parentNode.removeChild(warn);\n",
       "}\n",
       "$3Dmolpromise.then(function() {\n",
       "viewer_1729862726865642 = $3Dmol.createViewer(document.getElementById(\"3dmolviewer_1729862726865642\"),{backgroundColor:\"white\"});\n",
       "$3Dmol.download(\"cid:2519\", viewer_1729862726865642, {}, function() {\n",
       "viewer_1729862726865642.zoomTo();\n",
       "\tviewer_1729862726865642.setStyle({\"stick\": {\"radius\": 0.2}, \"sphere\": {\"scale\": 0.3}});\n",
       "\tviewer_1729862726865642.addSurface(2,{\"opacity\": 0.7, \"colorscheme\": \"greenCarbon\"});\n",
       "\tviewer_1729862726865642.zoomTo();\n",
       "viewer_1729862726865642.render();\n",
       "})\n",
       "});\n",
       "</script>"
      ]
     },
     "execution_count": null,
     "metadata": {},
     "output_type": "display_data"
    }
   ],
   "source": []
  },
  {
   "cell_type": "markdown",
   "id": "db2a73be",
   "metadata": {
    "papermill": {
     "duration": 0.003528,
     "end_time": "2024-10-25T13:25:26.874864",
     "exception": false,
     "start_time": "2024-10-25T13:25:26.871336",
     "status": "completed"
    },
    "tags": []
   },
   "source": [
    "---"
   ]
  },
  {
   "cell_type": "markdown",
   "id": "ea244345",
   "metadata": {
    "papermill": {
     "duration": 0.002572,
     "end_time": "2024-10-25T13:25:26.880314",
     "exception": false,
     "start_time": "2024-10-25T13:25:26.877742",
     "status": "completed"
    },
    "tags": []
   },
   "source": [
    "## Faceted view"
   ]
  },
  {
   "cell_type": "markdown",
   "id": "b13c6b51",
   "metadata": {
    "papermill": {
     "duration": 0.002682,
     "end_time": "2024-10-25T13:25:26.886298",
     "exception": false,
     "start_time": "2024-10-25T13:25:26.883616",
     "status": "completed"
    },
    "tags": []
   },
   "source": [
    "https://pubchem.ncbi.nlm.nih.gov/compound/Caffeine"
   ]
  },
  {
   "cell_type": "code",
   "execution_count": null,
   "id": "a83e4dab",
   "metadata": {
    "execution": {
     "iopub.execute_input": "2024-10-25T13:25:26.893018Z",
     "iopub.status.busy": "2024-10-25T13:25:26.892903Z",
     "iopub.status.idle": "2024-10-25T13:25:26.895326Z",
     "shell.execute_reply": "2024-10-25T13:25:26.895105Z"
    },
    "papermill": {
     "duration": 0.00668,
     "end_time": "2024-10-25T13:25:26.895999",
     "exception": false,
     "start_time": "2024-10-25T13:25:26.889319",
     "status": "completed"
    },
    "tags": []
   },
   "outputs": [
    {
     "data": {
      "application/3dmoljs_load.v0": "<div id=\"3dmolviewer_1729862726893739\"  style=\"position: relative; width: 700px; height: 300px;\">\n        <p id=\"3dmolwarning_1729862726893739\" style=\"background-color:#ffcccc;color:black\">3Dmol.js failed to load for some reason.  Please check your browser console for error messages.<br></p>\n        </div>\n<script>\n\nvar loadScriptAsync = function(uri){\n  return new Promise((resolve, reject) => {\n    //this is to ignore the existence of requirejs amd\n    var savedexports, savedmodule;\n    if (typeof exports !== 'undefined') savedexports = exports;\n    else exports = {}\n    if (typeof module !== 'undefined') savedmodule = module;\n    else module = {}\n\n    var tag = document.createElement('script');\n    tag.src = uri;\n    tag.async = true;\n    tag.onload = () => {\n        exports = savedexports;\n        module = savedmodule;\n        resolve();\n    };\n  var firstScriptTag = document.getElementsByTagName('script')[0];\n  firstScriptTag.parentNode.insertBefore(tag, firstScriptTag);\n});\n};\n\nif(typeof $3Dmolpromise === 'undefined') {\n$3Dmolpromise = null;\n  $3Dmolpromise = loadScriptAsync('https://cdnjs.cloudflare.com/ajax/libs/3Dmol/2.4.0/3Dmol-min.js');\n}\n\nvar viewer_1729862726893739 = null;\nvar warn = document.getElementById(\"3dmolwarning_1729862726893739\");\nif(warn) {\n    warn.parentNode.removeChild(warn);\n}\n$3Dmolpromise.then(function() {\nvar viewergrid_1729862726893739 = null;\nviewergrid_1729862726893739 = $3Dmol.createViewerGrid(document.getElementById(\"3dmolviewer_1729862726893739\"),{rows: 1, cols: 3, control_all: true},{backgroundColor:\"white\"});\nviewer_1729862726893739 = viewergrid_1729862726893739[0][0];\n$3Dmol.download(\"cid:2519\", viewergrid_1729862726893739[0][0], {}, function() {\n$3Dmol.download(\"cid:2519\", viewergrid_1729862726893739[0][1], {}, function() {\n$3Dmol.download(\"cid:2519\", viewergrid_1729862726893739[0][2], {}, function() {\nviewergrid_1729862726893739[0][0].zoomTo();viewergrid_1729862726893739[0][1].zoomTo();viewergrid_1729862726893739[0][2].zoomTo();\tviewergrid_1729862726893739[0][0].setStyle({\"line\": {\"linewidth\": 10}});\n\tviewergrid_1729862726893739[0][1].setStyle({\"stick\": {\"colorscheme\": \"cyanCarbon\"}});\n\tviewergrid_1729862726893739[0][2].setStyle({\"sphere\": {\"scale\": 0.5}});\nviewergrid_1729862726893739[0][2].render();\nviewergrid_1729862726893739[0][1].render();\nviewergrid_1729862726893739[0][0].render();\n})\n})\n})\n});\n</script>",
      "text/html": [
       "<div id=\"3dmolviewer_1729862726893739\"  style=\"position: relative; width: 700px; height: 300px;\">\n",
       "        <p id=\"3dmolwarning_1729862726893739\" style=\"background-color:#ffcccc;color:black\">3Dmol.js failed to load for some reason.  Please check your browser console for error messages.<br></p>\n",
       "        </div>\n",
       "<script>\n",
       "\n",
       "var loadScriptAsync = function(uri){\n",
       "  return new Promise((resolve, reject) => {\n",
       "    //this is to ignore the existence of requirejs amd\n",
       "    var savedexports, savedmodule;\n",
       "    if (typeof exports !== 'undefined') savedexports = exports;\n",
       "    else exports = {}\n",
       "    if (typeof module !== 'undefined') savedmodule = module;\n",
       "    else module = {}\n",
       "\n",
       "    var tag = document.createElement('script');\n",
       "    tag.src = uri;\n",
       "    tag.async = true;\n",
       "    tag.onload = () => {\n",
       "        exports = savedexports;\n",
       "        module = savedmodule;\n",
       "        resolve();\n",
       "    };\n",
       "  var firstScriptTag = document.getElementsByTagName('script')[0];\n",
       "  firstScriptTag.parentNode.insertBefore(tag, firstScriptTag);\n",
       "});\n",
       "};\n",
       "\n",
       "if(typeof $3Dmolpromise === 'undefined') {\n",
       "$3Dmolpromise = null;\n",
       "  $3Dmolpromise = loadScriptAsync('https://cdnjs.cloudflare.com/ajax/libs/3Dmol/2.4.0/3Dmol-min.js');\n",
       "}\n",
       "\n",
       "var viewer_1729862726893739 = null;\n",
       "var warn = document.getElementById(\"3dmolwarning_1729862726893739\");\n",
       "if(warn) {\n",
       "    warn.parentNode.removeChild(warn);\n",
       "}\n",
       "$3Dmolpromise.then(function() {\n",
       "var viewergrid_1729862726893739 = null;\n",
       "viewergrid_1729862726893739 = $3Dmol.createViewerGrid(document.getElementById(\"3dmolviewer_1729862726893739\"),{rows: 1, cols: 3, control_all: true},{backgroundColor:\"white\"});\n",
       "viewer_1729862726893739 = viewergrid_1729862726893739[0][0];\n",
       "$3Dmol.download(\"cid:2519\", viewergrid_1729862726893739[0][0], {}, function() {\n",
       "$3Dmol.download(\"cid:2519\", viewergrid_1729862726893739[0][1], {}, function() {\n",
       "$3Dmol.download(\"cid:2519\", viewergrid_1729862726893739[0][2], {}, function() {\n",
       "viewergrid_1729862726893739[0][0].zoomTo();viewergrid_1729862726893739[0][1].zoomTo();viewergrid_1729862726893739[0][2].zoomTo();\tviewergrid_1729862726893739[0][0].setStyle({\"line\": {\"linewidth\": 10}});\n",
       "\tviewergrid_1729862726893739[0][1].setStyle({\"stick\": {\"colorscheme\": \"cyanCarbon\"}});\n",
       "\tviewergrid_1729862726893739[0][2].setStyle({\"sphere\": {\"scale\": 0.5}});\n",
       "viewergrid_1729862726893739[0][2].render();\n",
       "viewergrid_1729862726893739[0][1].render();\n",
       "viewergrid_1729862726893739[0][0].render();\n",
       "})\n",
       "})\n",
       "})\n",
       "});\n",
       "</script>"
      ]
     },
     "execution_count": null,
     "metadata": {},
     "output_type": "display_data"
    }
   ],
   "source": []
  },
  {
   "cell_type": "code",
   "execution_count": null,
   "id": "c84963f6",
   "metadata": {
    "execution": {
     "iopub.execute_input": "2024-10-25T13:25:26.904030Z",
     "iopub.status.busy": "2024-10-25T13:25:26.903920Z",
     "iopub.status.idle": "2024-10-25T13:25:26.906618Z",
     "shell.execute_reply": "2024-10-25T13:25:26.906364Z"
    },
    "papermill": {
     "duration": 0.00881,
     "end_time": "2024-10-25T13:25:26.907525",
     "exception": false,
     "start_time": "2024-10-25T13:25:26.898715",
     "status": "completed"
    },
    "tags": []
   },
   "outputs": [
    {
     "data": {
      "application/3dmoljs_load.v0": "<div id=\"3dmolviewer_1729862726904937\"  style=\"position: relative; width: 700px; height: 700px;\">\n        <p id=\"3dmolwarning_1729862726904937\" style=\"background-color:#ffcccc;color:black\">3Dmol.js failed to load for some reason.  Please check your browser console for error messages.<br></p>\n        </div>\n<script>\n\nvar loadScriptAsync = function(uri){\n  return new Promise((resolve, reject) => {\n    //this is to ignore the existence of requirejs amd\n    var savedexports, savedmodule;\n    if (typeof exports !== 'undefined') savedexports = exports;\n    else exports = {}\n    if (typeof module !== 'undefined') savedmodule = module;\n    else module = {}\n\n    var tag = document.createElement('script');\n    tag.src = uri;\n    tag.async = true;\n    tag.onload = () => {\n        exports = savedexports;\n        module = savedmodule;\n        resolve();\n    };\n  var firstScriptTag = document.getElementsByTagName('script')[0];\n  firstScriptTag.parentNode.insertBefore(tag, firstScriptTag);\n});\n};\n\nif(typeof $3Dmolpromise === 'undefined') {\n$3Dmolpromise = null;\n  $3Dmolpromise = loadScriptAsync('https://cdnjs.cloudflare.com/ajax/libs/3Dmol/2.4.0/3Dmol-min.js');\n}\n\nvar viewer_1729862726904937 = null;\nvar warn = document.getElementById(\"3dmolwarning_1729862726904937\");\nif(warn) {\n    warn.parentNode.removeChild(warn);\n}\n$3Dmolpromise.then(function() {\nvar viewergrid_1729862726904937 = null;\nviewergrid_1729862726904937 = $3Dmol.createViewerGrid(document.getElementById(\"3dmolviewer_1729862726904937\"),{rows: 2, cols: 2, control_all: true},{backgroundColor:\"white\"});\nviewer_1729862726904937 = viewergrid_1729862726904937[0][0];\n$3Dmol.download(\"pdb:1zni\", viewergrid_1729862726904937[0][0], {}, function() {\n$3Dmol.download(\"pdb:1zni\", viewergrid_1729862726904937[0][1], {}, function() {\n$3Dmol.download(\"pdb:1zni\", viewergrid_1729862726904937[1][0], {}, function() {\n$3Dmol.download(\"pdb:1zni\", viewergrid_1729862726904937[1][1], {}, function() {\nviewergrid_1729862726904937[0][0].zoomTo();viewergrid_1729862726904937[0][1].zoomTo();viewergrid_1729862726904937[1][0].zoomTo();viewergrid_1729862726904937[1][1].zoomTo();\tviewergrid_1729862726904937[0][0].setStyle({\"line\": {\"linewidth\": 10, \"color\": \"darkblue\"}});\n\tviewergrid_1729862726904937[0][1].setStyle({\"stick\": {\"colorscheme\": \"lightblueCarbon\"}});\n\tviewergrid_1729862726904937[1][0].setStyle({\"sphere\": {\"scale\": 0.2, \"color\": \"lightcoral\"}});\n\tviewergrid_1729862726904937[1][1].setStyle({\"cartoon\": {\"color\": \"lightseagreen\"}});\n\tviewergrid_1729862726904937[0][0].zoomTo();\n\tviewergrid_1729862726904937[0][1].zoomTo();\n\tviewergrid_1729862726904937[1][0].zoomTo();\n\tviewergrid_1729862726904937[1][1].zoomTo();\nviewergrid_1729862726904937[1][1].render();\nviewergrid_1729862726904937[1][0].render();\nviewergrid_1729862726904937[0][1].render();\nviewergrid_1729862726904937[0][0].render();\n})\n})\n})\n})\n});\n</script>",
      "text/html": [
       "<div id=\"3dmolviewer_1729862726904937\"  style=\"position: relative; width: 700px; height: 700px;\">\n",
       "        <p id=\"3dmolwarning_1729862726904937\" style=\"background-color:#ffcccc;color:black\">3Dmol.js failed to load for some reason.  Please check your browser console for error messages.<br></p>\n",
       "        </div>\n",
       "<script>\n",
       "\n",
       "var loadScriptAsync = function(uri){\n",
       "  return new Promise((resolve, reject) => {\n",
       "    //this is to ignore the existence of requirejs amd\n",
       "    var savedexports, savedmodule;\n",
       "    if (typeof exports !== 'undefined') savedexports = exports;\n",
       "    else exports = {}\n",
       "    if (typeof module !== 'undefined') savedmodule = module;\n",
       "    else module = {}\n",
       "\n",
       "    var tag = document.createElement('script');\n",
       "    tag.src = uri;\n",
       "    tag.async = true;\n",
       "    tag.onload = () => {\n",
       "        exports = savedexports;\n",
       "        module = savedmodule;\n",
       "        resolve();\n",
       "    };\n",
       "  var firstScriptTag = document.getElementsByTagName('script')[0];\n",
       "  firstScriptTag.parentNode.insertBefore(tag, firstScriptTag);\n",
       "});\n",
       "};\n",
       "\n",
       "if(typeof $3Dmolpromise === 'undefined') {\n",
       "$3Dmolpromise = null;\n",
       "  $3Dmolpromise = loadScriptAsync('https://cdnjs.cloudflare.com/ajax/libs/3Dmol/2.4.0/3Dmol-min.js');\n",
       "}\n",
       "\n",
       "var viewer_1729862726904937 = null;\n",
       "var warn = document.getElementById(\"3dmolwarning_1729862726904937\");\n",
       "if(warn) {\n",
       "    warn.parentNode.removeChild(warn);\n",
       "}\n",
       "$3Dmolpromise.then(function() {\n",
       "var viewergrid_1729862726904937 = null;\n",
       "viewergrid_1729862726904937 = $3Dmol.createViewerGrid(document.getElementById(\"3dmolviewer_1729862726904937\"),{rows: 2, cols: 2, control_all: true},{backgroundColor:\"white\"});\n",
       "viewer_1729862726904937 = viewergrid_1729862726904937[0][0];\n",
       "$3Dmol.download(\"pdb:1zni\", viewergrid_1729862726904937[0][0], {}, function() {\n",
       "$3Dmol.download(\"pdb:1zni\", viewergrid_1729862726904937[0][1], {}, function() {\n",
       "$3Dmol.download(\"pdb:1zni\", viewergrid_1729862726904937[1][0], {}, function() {\n",
       "$3Dmol.download(\"pdb:1zni\", viewergrid_1729862726904937[1][1], {}, function() {\n",
       "viewergrid_1729862726904937[0][0].zoomTo();viewergrid_1729862726904937[0][1].zoomTo();viewergrid_1729862726904937[1][0].zoomTo();viewergrid_1729862726904937[1][1].zoomTo();\tviewergrid_1729862726904937[0][0].setStyle({\"line\": {\"linewidth\": 10, \"color\": \"darkblue\"}});\n",
       "\tviewergrid_1729862726904937[0][1].setStyle({\"stick\": {\"colorscheme\": \"lightblueCarbon\"}});\n",
       "\tviewergrid_1729862726904937[1][0].setStyle({\"sphere\": {\"scale\": 0.2, \"color\": \"lightcoral\"}});\n",
       "\tviewergrid_1729862726904937[1][1].setStyle({\"cartoon\": {\"color\": \"lightseagreen\"}});\n",
       "\tviewergrid_1729862726904937[0][0].zoomTo();\n",
       "\tviewergrid_1729862726904937[0][1].zoomTo();\n",
       "\tviewergrid_1729862726904937[1][0].zoomTo();\n",
       "\tviewergrid_1729862726904937[1][1].zoomTo();\n",
       "viewergrid_1729862726904937[1][1].render();\n",
       "viewergrid_1729862726904937[1][0].render();\n",
       "viewergrid_1729862726904937[0][1].render();\n",
       "viewergrid_1729862726904937[0][0].render();\n",
       "})\n",
       "})\n",
       "})\n",
       "})\n",
       "});\n",
       "</script>"
      ]
     },
     "execution_count": null,
     "metadata": {},
     "output_type": "display_data"
    }
   ],
   "source": []
  },
  {
   "cell_type": "markdown",
   "id": "5fcad973",
   "metadata": {
    "papermill": {
     "duration": 0.002868,
     "end_time": "2024-10-25T13:25:26.913469",
     "exception": false,
     "start_time": "2024-10-25T13:25:26.910601",
     "status": "completed"
    },
    "tags": []
   },
   "source": [
    "## Conclusion"
   ]
  },
  {
   "cell_type": "markdown",
   "id": "63819b31",
   "metadata": {
    "papermill": {
     "duration": 0.002604,
     "end_time": "2024-10-25T13:25:26.918833",
     "exception": false,
     "start_time": "2024-10-25T13:25:26.916229",
     "status": "completed"
    },
    "tags": []
   },
   "source": [
    "These visualization techniques provide a flexible way to explore molecular structures in both 2D and 3D using RDKit and Py3Dmol."
   ]
  },
  {
   "cell_type": "markdown",
   "id": "e2d1dab3",
   "metadata": {
    "papermill": {
     "duration": 0.002739,
     "end_time": "2024-10-25T13:25:26.924312",
     "exception": false,
     "start_time": "2024-10-25T13:25:26.921573",
     "status": "completed"
    },
    "tags": []
   },
   "source": [
    "## References\n",
    "\n",
    "- https://www.insilicochemistry.io/tutorials/foundations/chemistry-visualization-with-py3dmol"
   ]
  }
 ],
 "metadata": {
  "kernelspec": {
   "display_name": "work",
   "language": "python",
   "name": "python3"
  },
  "language_info": {
   "codemirror_mode": {
    "name": "ipython",
    "version": 3
   },
   "file_extension": ".py",
   "mimetype": "text/x-python",
   "name": "python",
   "nbconvert_exporter": "python",
   "pygments_lexer": "ipython3",
   "version": "3.12.3"
  },
  "papermill": {
   "default_parameters": {},
   "duration": 1.368047,
   "end_time": "2024-10-25T13:25:27.143817",
   "environment_variables": {},
   "exception": null,
   "input_path": "/Users/sota/Library/CloudStorage/Dropbox-datons/Training/2 Areas/Courses/3 Catalogue/LB/workbook/py3Dmol/1_Visualization/1C_.ipynb",
   "output_path": "/Users/sota/Library/CloudStorage/Dropbox-datons/Training/2 Areas/Courses/3 Catalogue/LB/workbook/py3Dmol/1_Visualization/1C_.ipynb",
   "parameters": {},
   "start_time": "2024-10-25T13:25:25.775770",
   "version": "2.6.0"
  }
 },
 "nbformat": 4,
 "nbformat_minor": 5
}
