{
 "cells": [
  {
   "cell_type": "markdown",
   "id": "24e67f8b",
   "metadata": {
    "papermill": {
     "duration": 0.00199,
     "end_time": "2024-10-25T13:25:19.782975",
     "exception": false,
     "start_time": "2024-10-25T13:25:19.780985",
     "status": "completed"
    },
    "tags": []
   },
   "source": [
    "# Descriptors"
   ]
  },
  {
   "cell_type": "markdown",
   "id": "37cf583a",
   "metadata": {
    "papermill": {
     "duration": 0.001484,
     "end_time": "2024-10-25T13:25:19.786194",
     "exception": false,
     "start_time": "2024-10-25T13:25:19.784710",
     "status": "completed"
    },
    "tags": []
   },
   "source": [
    "## Define molecule"
   ]
  },
  {
   "cell_type": "code",
   "execution_count": null,
   "id": "d326c455",
   "metadata": {
    "execution": {
     "iopub.execute_input": "2024-10-25T13:25:19.789287Z",
     "iopub.status.busy": "2024-10-25T13:25:19.789136Z",
     "iopub.status.idle": "2024-10-25T13:25:19.791530Z",
     "shell.execute_reply": "2024-10-25T13:25:19.791302Z"
    },
    "papermill": {
     "duration": 0.005005,
     "end_time": "2024-10-25T13:25:19.792346",
     "exception": false,
     "start_time": "2024-10-25T13:25:19.787341",
     "status": "completed"
    },
    "tags": []
   },
   "outputs": [],
   "source": []
  },
  {
   "cell_type": "code",
   "execution_count": null,
   "id": "8c348675",
   "metadata": {
    "execution": {
     "iopub.execute_input": "2024-10-25T13:25:19.794874Z",
     "iopub.status.busy": "2024-10-25T13:25:19.794794Z",
     "iopub.status.idle": "2024-10-25T13:25:19.870375Z",
     "shell.execute_reply": "2024-10-25T13:25:19.870087Z"
    },
    "papermill": {
     "duration": 0.077832,
     "end_time": "2024-10-25T13:25:19.871288",
     "exception": false,
     "start_time": "2024-10-25T13:25:19.793456",
     "status": "completed"
    },
    "tags": []
   },
   "outputs": [
    {
     "data": {
      "image/png": "[encoded data removed]",
      "text/plain": [
       "<rdkit.Chem.rdchem.Mol at 0x3067392a0>"
      ]
     },
     "execution_count": null,
     "metadata": {},
     "output_type": "execute_result"
    }
   ],
   "source": []
  },
  {
   "cell_type": "markdown",
   "id": "aa40322e",
   "metadata": {
    "papermill": {
     "duration": 0.001088,
     "end_time": "2024-10-25T13:25:19.873630",
     "exception": false,
     "start_time": "2024-10-25T13:25:19.872542",
     "status": "completed"
    },
    "tags": []
   },
   "source": [
    "## Descriptors"
   ]
  },
  {
   "cell_type": "code",
   "execution_count": null,
   "id": "7332c6d9",
   "metadata": {
    "execution": {
     "iopub.execute_input": "2024-10-25T13:25:19.876402Z",
     "iopub.status.busy": "2024-10-25T13:25:19.876276Z",
     "iopub.status.idle": "2024-10-25T13:25:19.897141Z",
     "shell.execute_reply": "2024-10-25T13:25:19.896848Z"
    },
    "papermill": {
     "duration": 0.023258,
     "end_time": "2024-10-25T13:25:19.898072",
     "exception": false,
     "start_time": "2024-10-25T13:25:19.874814",
     "status": "completed"
    },
    "tags": []
   },
   "outputs": [],
   "source": []
  },
  {
   "cell_type": "markdown",
   "id": "4ea0b7b8",
   "metadata": {
    "papermill": {
     "duration": 0.001198,
     "end_time": "2024-10-25T13:25:19.900786",
     "exception": false,
     "start_time": "2024-10-25T13:25:19.899588",
     "status": "completed"
    },
    "tags": []
   },
   "source": [
    "### Single descriptor"
   ]
  },
  {
   "cell_type": "code",
   "execution_count": null,
   "id": "d2f3360b",
   "metadata": {
    "execution": {
     "iopub.execute_input": "2024-10-25T13:25:19.903752Z",
     "iopub.status.busy": "2024-10-25T13:25:19.903646Z",
     "iopub.status.idle": "2024-10-25T13:25:19.905596Z",
     "shell.execute_reply": "2024-10-25T13:25:19.905395Z"
    },
    "papermill": {
     "duration": 0.004224,
     "end_time": "2024-10-25T13:25:19.906322",
     "exception": false,
     "start_time": "2024-10-25T13:25:19.902098",
     "status": "completed"
    },
    "tags": []
   },
   "outputs": [
    {
     "data": {
      "text/plain": [
       "180.15899999999996"
      ]
     },
     "execution_count": null,
     "metadata": {},
     "output_type": "execute_result"
    }
   ],
   "source": []
  },
  {
   "cell_type": "markdown",
   "id": "dc7622f6",
   "metadata": {
    "papermill": {
     "duration": 0.001747,
     "end_time": "2024-10-25T13:25:19.909298",
     "exception": false,
     "start_time": "2024-10-25T13:25:19.907551",
     "status": "completed"
    },
    "tags": []
   },
   "source": [
    "---"
   ]
  },
  {
   "cell_type": "markdown",
   "id": "b54bc5c9",
   "metadata": {
    "papermill": {
     "duration": 0.001043,
     "end_time": "2024-10-25T13:25:19.911390",
     "exception": false,
     "start_time": "2024-10-25T13:25:19.910347",
     "status": "completed"
    },
    "tags": []
   },
   "source": [
    "### Multiple descriptors"
   ]
  },
  {
   "cell_type": "code",
   "execution_count": null,
   "id": "8322327c",
   "metadata": {
    "execution": {
     "iopub.execute_input": "2024-10-25T13:25:19.913965Z",
     "iopub.status.busy": "2024-10-25T13:25:19.913863Z",
     "iopub.status.idle": "2024-10-25T13:25:19.917496Z",
     "shell.execute_reply": "2024-10-25T13:25:19.917276Z"
    },
    "papermill": {
     "duration": 0.005738,
     "end_time": "2024-10-25T13:25:19.918201",
     "exception": false,
     "start_time": "2024-10-25T13:25:19.912463",
     "status": "completed"
    },
    "tags": []
   },
   "outputs": [
    {
     "data": {
      "text/plain": [
       "{'Molecular weight': 180.15899999999996,\n",
       " 'LogP': 1.3101,\n",
       " 'H-bond donors': 1,\n",
       " 'H-bond acceptors': 3,\n",
       " 'Rotatable bonds': 2,\n",
       " 'Aromatic rings': 1,\n",
       " 'Topological polar surface area': 63.60000000000001,\n",
       " 'Heavy atom count': 13,\n",
       " 'Fraction of sp³-hybridized carbon atoms': 0.1111111111111111,\n",
       " 'Labute approximate surface area': 74.75705264447721,\n",
       " 'Number of valence electrons': 68,\n",
       " 'Number of radical electrons': 0}"
      ]
     },
     "execution_count": null,
     "metadata": {},
     "output_type": "execute_result"
    }
   ],
   "source": []
  },
  {
   "cell_type": "markdown",
   "id": "a28db083",
   "metadata": {
    "papermill": {
     "duration": 0.0011,
     "end_time": "2024-10-25T13:25:19.920489",
     "exception": false,
     "start_time": "2024-10-25T13:25:19.919389",
     "status": "completed"
    },
    "tags": []
   },
   "source": [
    "## Automated calculation"
   ]
  },
  {
   "cell_type": "code",
   "execution_count": null,
   "id": "b1079991",
   "metadata": {
    "execution": {
     "iopub.execute_input": "2024-10-25T13:25:19.923075Z",
     "iopub.status.busy": "2024-10-25T13:25:19.922984Z",
     "iopub.status.idle": "2024-10-25T13:25:20.005590Z",
     "shell.execute_reply": "2024-10-25T13:25:20.005326Z"
    },
    "papermill": {
     "duration": 0.084801,
     "end_time": "2024-10-25T13:25:20.006383",
     "exception": false,
     "start_time": "2024-10-25T13:25:19.921582",
     "status": "completed"
    },
    "tags": []
   },
   "outputs": [],
   "source": []
  },
  {
   "cell_type": "markdown",
   "id": "ca61c818",
   "metadata": {
    "papermill": {
     "duration": 0.001412,
     "end_time": "2024-10-25T13:25:20.009404",
     "exception": false,
     "start_time": "2024-10-25T13:25:20.007992",
     "status": "completed"
    },
    "tags": []
   },
   "source": [
    "### Single molecule"
   ]
  },
  {
   "cell_type": "code",
   "execution_count": null,
   "id": "aac3d7ee",
   "metadata": {
    "execution": {
     "iopub.execute_input": "2024-10-25T13:25:20.016931Z",
     "iopub.status.busy": "2024-10-25T13:25:20.016789Z",
     "iopub.status.idle": "2024-10-25T13:25:20.018361Z",
     "shell.execute_reply": "2024-10-25T13:25:20.018147Z"
    },
    "papermill": {
     "duration": 0.008231,
     "end_time": "2024-10-25T13:25:20.019097",
     "exception": false,
     "start_time": "2024-10-25T13:25:20.010866",
     "status": "completed"
    },
    "tags": []
   },
   "outputs": [],
   "source": []
  },
  {
   "cell_type": "code",
   "execution_count": null,
   "id": "85ab9ab1",
   "metadata": {
    "execution": {
     "iopub.execute_input": "2024-10-25T13:25:20.023659Z",
     "iopub.status.busy": "2024-10-25T13:25:20.023569Z",
     "iopub.status.idle": "2024-10-25T13:25:20.025437Z",
     "shell.execute_reply": "2024-10-25T13:25:20.025239Z"
    },
    "papermill": {
     "duration": 0.00407,
     "end_time": "2024-10-25T13:25:20.026106",
     "exception": false,
     "start_time": "2024-10-25T13:25:20.022036",
     "status": "completed"
    },
    "tags": []
   },
   "outputs": [
    {
     "data": {
      "text/plain": [
       "<src.utils.MolecularPropertiesCalculator at 0x3076e4560>"
      ]
     },
     "execution_count": null,
     "metadata": {},
     "output_type": "execute_result"
    }
   ],
   "source": []
  },
  {
   "cell_type": "code",
   "execution_count": null,
   "id": "62ed354f",
   "metadata": {
    "execution": {
     "iopub.execute_input": "2024-10-25T13:25:20.029523Z",
     "iopub.status.busy": "2024-10-25T13:25:20.029391Z",
     "iopub.status.idle": "2024-10-25T13:25:20.032026Z",
     "shell.execute_reply": "2024-10-25T13:25:20.031833Z"
    },
    "papermill": {
     "duration": 0.004783,
     "end_time": "2024-10-25T13:25:20.032721",
     "exception": false,
     "start_time": "2024-10-25T13:25:20.027938",
     "status": "completed"
    },
    "tags": []
   },
   "outputs": [
    {
     "data": {
      "text/plain": [
       "{'Aspirin': {'smiles': 'CC(=O)OC1=CC=CC=C1C(=O)O',\n",
       "  'properties': {'MW': 180.15899999999996,\n",
       "   'LogP': 1.3101,\n",
       "   'HBD': 1,\n",
       "   'HBA': 3,\n",
       "   'RB': 2,\n",
       "   'AR': 1,\n",
       "   'TPSA': 63.60000000000001,\n",
       "   'HAC': 13,\n",
       "   'FSP3': 0.1111111111111111,\n",
       "   'ASA': 74.75705264447721}}}"
      ]
     },
     "execution_count": null,
     "metadata": {},
     "output_type": "execute_result"
    }
   ],
   "source": []
  }
 ],
 "metadata": {
  "kernelspec": {
   "display_name": "work",
   "language": "python",
   "name": "python3"
  },
  "language_info": {
   "codemirror_mode": {
    "name": "ipython",
    "version": 3
   },
   "file_extension": ".py",
   "mimetype": "text/x-python",
   "name": "python",
   "nbconvert_exporter": "python",
   "pygments_lexer": "ipython3",
   "version": "3.12.3"
  },
  "papermill": {
   "default_parameters": {},
   "duration": 1.267383,
   "end_time": "2024-10-25T13:25:20.249867",
   "environment_variables": {},
   "exception": null,
   "input_path": "/Users/sota/Library/CloudStorage/Dropbox-datons/Training/2 Areas/Courses/3 Catalogue/LB/workbook/RDKit/3_Descriptors/1C_Explain.ipynb",
   "output_path": "/Users/sota/Library/CloudStorage/Dropbox-datons/Training/2 Areas/Courses/3 Catalogue/LB/workbook/RDKit/3_Descriptors/1C_Explain.ipynb",
   "parameters": {},
   "start_time": "2024-10-25T13:25:18.982484",
   "version": "2.6.0"
  }
 },
 "nbformat": 4,
 "nbformat_minor": 5
}
