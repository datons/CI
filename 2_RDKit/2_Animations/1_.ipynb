{
 "cells": [
  {
   "cell_type": "markdown",
   "id": "f25ba42c",
   "metadata": {
    "papermill": {
     "duration": 0.002008,
     "end_time": "2024-10-25T13:25:16.959923",
     "exception": false,
     "start_time": "2024-10-25T13:25:16.957915",
     "status": "completed"
    },
    "tags": []
   },
   "source": [
    "# Animations"
   ]
  },
  {
   "cell_type": "code",
   "execution_count": null,
   "id": "188da54c",
   "metadata": {
    "execution": {
     "iopub.execute_input": "2024-10-25T13:25:16.965105Z",
     "iopub.status.busy": "2024-10-25T13:25:16.964976Z",
     "iopub.status.idle": "2024-10-25T13:25:17.111548Z",
     "shell.execute_reply": "2024-10-25T13:25:17.111240Z"
    },
    "papermill": {
     "duration": 0.150091,
     "end_time": "2024-10-25T13:25:17.112702",
     "exception": false,
     "start_time": "2024-10-25T13:25:16.962611",
     "status": "completed"
    },
    "tags": []
   },
   "outputs": [],
   "source": []
  },
  {
   "cell_type": "markdown",
   "id": "73fe4609",
   "metadata": {
    "papermill": {
     "duration": 0.001338,
     "end_time": "2024-10-25T13:25:17.115842",
     "exception": false,
     "start_time": "2024-10-25T13:25:17.114504",
     "status": "completed"
    },
    "tags": []
   },
   "source": [
    "## Interactive"
   ]
  },
  {
   "cell_type": "code",
   "execution_count": null,
   "id": "6c7bcfd8",
   "metadata": {
    "execution": {
     "iopub.execute_input": "2024-10-25T13:25:17.118866Z",
     "iopub.status.busy": "2024-10-25T13:25:17.118746Z",
     "iopub.status.idle": "2024-10-25T13:25:17.170673Z",
     "shell.execute_reply": "2024-10-25T13:25:17.170444Z"
    },
    "papermill": {
     "duration": 0.05434,
     "end_time": "2024-10-25T13:25:17.171453",
     "exception": false,
     "start_time": "2024-10-25T13:25:17.117113",
     "status": "completed"
    },
    "tags": []
   },
   "outputs": [
    {
     "data": {
      "application/vnd.jupyter.widget-view+json": {
       "model_id": "3545f78e31ca4585ac48f75465a2619f",
       "version_major": 2,
       "version_minor": 0
      },
      "text/plain": [
       "interactive(children=(Text(value='CC=O', description='smi'), Output()), _dom_classes=('widget-interact',))"
      ]
     },
     "execution_count": null,
     "metadata": {},
     "output_type": "display_data"
    }
   ],
   "source": []
  },
  {
   "cell_type": "markdown",
   "id": "6361501a",
   "metadata": {
    "papermill": {
     "duration": 0.001252,
     "end_time": "2024-10-25T13:25:17.174431",
     "exception": false,
     "start_time": "2024-10-25T13:25:17.173179",
     "status": "completed"
    },
    "tags": []
   },
   "source": [
    "## Step by step"
   ]
  },
  {
   "cell_type": "markdown",
   "id": "656fc5b4",
   "metadata": {
    "papermill": {
     "duration": 0.001234,
     "end_time": "2024-10-25T13:25:17.177015",
     "exception": false,
     "start_time": "2024-10-25T13:25:17.175781",
     "status": "completed"
    },
    "tags": []
   },
   "source": [
    "### Create SMILES"
   ]
  },
  {
   "cell_type": "code",
   "execution_count": null,
   "id": "29313bb0",
   "metadata": {
    "execution": {
     "iopub.execute_input": "2024-10-25T13:25:17.180423Z",
     "iopub.status.busy": "2024-10-25T13:25:17.180228Z",
     "iopub.status.idle": "2024-10-25T13:25:17.182276Z",
     "shell.execute_reply": "2024-10-25T13:25:17.182078Z"
    },
    "papermill": {
     "duration": 0.004639,
     "end_time": "2024-10-25T13:25:17.183100",
     "exception": false,
     "start_time": "2024-10-25T13:25:17.178461",
     "status": "completed"
    },
    "tags": []
   },
   "outputs": [
    {
     "data": {
      "text/plain": [
       "'COc3nc(OCc2ccc(C#N)c(c1ccc(C(=O)O)cc1)c2P(=O)(O)O)ccc3C[NH2+]CC(I)NC(=O)C(F)(Cl)Br'"
      ]
     },
     "execution_count": null,
     "metadata": {},
     "output_type": "execute_result"
    }
   ],
   "source": []
  },
  {
   "cell_type": "markdown",
   "id": "9142dd89",
   "metadata": {
    "papermill": {
     "duration": 0.001275,
     "end_time": "2024-10-25T13:25:17.185726",
     "exception": false,
     "start_time": "2024-10-25T13:25:17.184451",
     "status": "completed"
    },
    "tags": []
   },
   "source": [
    "### Transform SMILES to rdkit.Mol"
   ]
  },
  {
   "cell_type": "code",
   "execution_count": null,
   "id": "175979d4",
   "metadata": {
    "execution": {
     "iopub.execute_input": "2024-10-25T13:25:17.188523Z",
     "iopub.status.busy": "2024-10-25T13:25:17.188422Z",
     "iopub.status.idle": "2024-10-25T13:25:17.289653Z",
     "shell.execute_reply": "2024-10-25T13:25:17.289258Z"
    },
    "papermill": {
     "duration": 0.103686,
     "end_time": "2024-10-25T13:25:17.290534",
     "exception": false,
     "start_time": "2024-10-25T13:25:17.186848",
     "status": "completed"
    },
    "tags": []
   },
   "outputs": [
    {
     "data": {
      "image/png": "[encoded data removed]",
      "text/plain": [
       "<rdkit.Chem.rdchem.Mol at 0x318197ca0>"
      ]
     },
     "execution_count": null,
     "metadata": {},
     "output_type": "execute_result"
    }
   ],
   "source": []
  },
  {
   "cell_type": "markdown",
   "id": "a63281bd",
   "metadata": {
    "papermill": {
     "duration": 0.00159,
     "end_time": "2024-10-25T13:25:17.293859",
     "exception": false,
     "start_time": "2024-10-25T13:25:17.292269",
     "status": "completed"
    },
    "tags": []
   },
   "source": [
    "### Draw molecule"
   ]
  },
  {
   "cell_type": "code",
   "execution_count": null,
   "id": "501b94c4",
   "metadata": {
    "execution": {
     "iopub.execute_input": "2024-10-25T13:25:17.297278Z",
     "iopub.status.busy": "2024-10-25T13:25:17.297170Z",
     "iopub.status.idle": "2024-10-25T13:25:17.299492Z",
     "shell.execute_reply": "2024-10-25T13:25:17.299278Z"
    },
    "papermill": {
     "duration": 0.00488,
     "end_time": "2024-10-25T13:25:17.300306",
     "exception": false,
     "start_time": "2024-10-25T13:25:17.295426",
     "status": "completed"
    },
    "tags": []
   },
   "outputs": [
    {
     "data": {
      "application/3dmoljs_load.v0": "<div id=\"3dmolviewer_1729862717297971\"  style=\"position: relative; width: 600px; height: 300px;\">\n        <p id=\"3dmolwarning_1729862717297971\" style=\"background-color:#ffcccc;color:black\">3Dmol.js failed to load for some reason.  Please check your browser console for error messages.<br></p>\n        </div>\n<script>\n\nvar loadScriptAsync = function(uri){\n  return new Promise((resolve, reject) => {\n    //this is to ignore the existence of requirejs amd\n    var savedexports, savedmodule;\n    if (typeof exports !== 'undefined') savedexports = exports;\n    else exports = {}\n    if (typeof module !== 'undefined') savedmodule = module;\n    else module = {}\n\n    var tag = document.createElement('script');\n    tag.src = uri;\n    tag.async = true;\n    tag.onload = () => {\n        exports = savedexports;\n        module = savedmodule;\n        resolve();\n    };\n  var firstScriptTag = document.getElementsByTagName('script')[0];\n  firstScriptTag.parentNode.insertBefore(tag, firstScriptTag);\n});\n};\n\nif(typeof $3Dmolpromise === 'undefined') {\n$3Dmolpromise = null;\n  $3Dmolpromise = loadScriptAsync('https://cdnjs.cloudflare.com/ajax/libs/3Dmol/2.4.0/3Dmol-min.js');\n}\n\nvar viewer_1729862717297971 = null;\nvar warn = document.getElementById(\"3dmolwarning_1729862717297971\");\nif(warn) {\n    warn.parentNode.removeChild(warn);\n}\n$3Dmolpromise.then(function() {\nviewer_1729862717297971 = $3Dmol.createViewer(document.getElementById(\"3dmolviewer_1729862717297971\"),{backgroundColor:\"white\"});\nviewer_1729862717297971.zoomTo();\n\tviewer_1729862717297971.addModel(\"\\n     RDKit          3D\\n\\n 67 69  0  0  0  0  0  0  0  0999 V2000\\n    1.8068   -1.1826   -1.8389 C   0  0  0  0  0  0  0  0  0  0  0  0\\n    2.3133    0.0654   -1.3657 O   0  0  0  0  0  0  0  0  0  0  0  0\\n    1.7888    0.4344   -0.1399 C   0  0  0  0  0  0  0  0  0  0  0  0\\n    1.1050   -0.4740    0.5831 N   0  0  0  0  0  0  0  0  0  0  0  0\\n    0.6323   -0.0708    1.7785 C   0  0  0  0  0  0  0  0  0  0  0  0\\n   -0.1349   -0.9103    2.5535 O   0  0  0  0  0  0  0  0  0  0  0  0\\n   -0.3731   -2.2203    2.0346 C   0  0  0  0  0  0  0  0  0  0  0  0\\n   -1.4134   -2.2348    0.9254 C   0  0  0  0  0  0  0  0  0  0  0  0\\n   -1.0849   -2.9237   -0.2535 C   0  0  0  0  0  0  0  0  0  0  0  0\\n   -1.9273   -2.8838   -1.3555 C   0  0  0  0  0  0  0  0  0  0  0  0\\n   -3.1031   -2.1294   -1.3099 C   0  0  0  0  0  0  0  0  0  0  0  0\\n   -3.8794   -2.0452   -2.5189 C   0  0  0  0  0  0  0  0  0  0  0  0\\n   -4.4670   -1.9916   -3.5181 N   0  0  0  0  0  0  0  0  0  0  0  0\\n   -3.4875   -1.4548   -0.1228 C   0  0  0  0  0  0  0  0  0  0  0  0\\n   -4.6936   -0.6029   -0.1378 C   0  0  0  0  0  0  0  0  0  0  0  0\\n   -5.9835   -1.1599   -0.1450 C   0  0  0  0  0  0  0  0  0  0  0  0\\n   -7.1176   -0.3417   -0.1908 C   0  0  0  0  0  0  0  0  0  0  0  0\\n   -6.9778    1.0490   -0.2333 C   0  0  0  0  0  0  0  0  0  0  0  0\\n   -8.1459    1.9607   -0.2807 C   0  0  0  0  0  0  0  0  0  0  0  0\\n   -8.0963    3.1757   -0.3501 O   0  0  0  0  0  0  0  0  0  0  0  0\\n   -9.3193    1.3074   -0.2323 O   0  0  0  0  0  0  0  0  0  0  0  0\\n   -5.6982    1.6147   -0.2332 C   0  0  0  0  0  0  0  0  0  0  0  0\\n   -4.5680    0.7948   -0.1883 C   0  0  0  0  0  0  0  0  0  0  0  0\\n   -2.6621   -1.5608    1.0356 C   0  0  0  0  0  0  0  0  0  0  0  0\\n   -3.1588   -0.9016    2.6074 P   0  0  0  0  0  0  0  0  0  0  0  0\\n   -2.5856   -1.4241    3.8876 O   0  0  0  0  0  0  0  0  0  0  0  0\\n   -2.9677    0.6952    2.5565 O   0  0  0  0  0  0  0  0  0  0  0  0\\n   -4.7558   -0.9844    2.7307 O   0  0  0  0  0  0  0  0  0  0  0  0\\n    0.8516    1.1948    2.2987 C   0  0  0  0  0  0  0  0  0  0  0  0\\n    1.5838    2.1089    1.5469 C   0  0  0  0  0  0  0  0  0  0  0  0\\n    2.0629    1.7345    0.2869 C   0  0  0  0  0  0  0  0  0  0  0  0\\n    2.8320    2.6917   -0.5670 C   0  0  0  0  0  0  0  0  0  0  0  0\\n    4.3045    2.7303   -0.2873 N   0  0  0  0  0  4  0  0  0  0  0  0\\n    5.0591    1.4912   -0.7130 C   0  0  0  0  0  0  0  0  0  0  0  0\\n    6.5964    1.7203   -0.7025 C   0  0  0  0  0  0  0  0  0  0  0  0\\n    7.1522    3.0942   -2.2381 I   0  0  0  0  0  0  0  0  0  0  0  0\\n    7.3545    0.5159   -0.9572 N   0  0  0  0  0  0  0  0  0  0  0  0\\n    7.4247   -0.4820    0.0106 C   0  0  0  0  0  0  0  0  0  0  0  0\\n    6.7229   -0.3890    1.0189 O   0  0  0  0  0  0  0  0  0  0  0  0\\n    8.4084   -1.6322   -0.3047 C   0  0  0  0  0  0  0  0  0  0  0  0\\n    8.9667   -1.4598   -1.5399 F   0  0  0  0  0  0  0  0  0  0  0  0\\n    9.6765   -1.6480    0.9209 Cl  0  0  0  0  0  0  0  0  0  0  0  0\\n    7.3793   -3.2738   -0.2812 Br  0  0  0  0  0  0  0  0  0  0  0  0\\n    2.2447   -1.3663   -2.8251 H   0  0  0  0  0  0  0  0  0  0  0  0\\n    2.1069   -2.0076   -1.1832 H   0  0  0  0  0  0  0  0  0  0  0  0\\n    0.7192   -1.1420   -1.9613 H   0  0  0  0  0  0  0  0  0  0  0  0\\n    0.5740   -2.6761    1.7178 H   0  0  0  0  0  0  0  0  0  0  0  0\\n   -0.7361   -2.8480    2.8546 H   0  0  0  0  0  0  0  0  0  0  0  0\\n   -0.1487   -3.4757   -0.3255 H   0  0  0  0  0  0  0  0  0  0  0  0\\n   -1.6455   -3.4138   -2.2645 H   0  0  0  0  0  0  0  0  0  0  0  0\\n   -6.1187   -2.2388   -0.1087 H   0  0  0  0  0  0  0  0  0  0  0  0\\n   -8.1031   -0.8013   -0.1944 H   0  0  0  0  0  0  0  0  0  0  0  0\\n   -9.9921    2.0185   -0.2890 H   0  0  0  0  0  0  0  0  0  0  0  0\\n   -5.5768    2.6945   -0.2674 H   0  0  0  0  0  0  0  0  0  0  0  0\\n   -3.5826    1.2569   -0.1874 H   0  0  0  0  0  0  0  0  0  0  0  0\\n   -3.0487    1.0790    3.4468 H   0  0  0  0  0  0  0  0  0  0  0  0\\n   -5.0687   -0.8669    3.6457 H   0  0  0  0  0  0  0  0  0  0  0  0\\n    0.4427    1.4622    3.2679 H   0  0  0  0  0  0  0  0  0  0  0  0\\n    1.7426    3.1073    1.9480 H   0  0  0  0  0  0  0  0  0  0  0  0\\n    2.4722    3.7123   -0.3882 H   0  0  0  0  0  0  0  0  0  0  0  0\\n    2.7032    2.5069   -1.6397 H   0  0  0  0  0  0  0  0  0  0  0  0\\n    4.6916    3.5478   -0.7788 H   0  0  0  0  0  0  0  0  0  0  0  0\\n    4.4505    2.8934    0.7176 H   0  0  0  0  0  0  0  0  0  0  0  0\\n    4.7678    0.7001   -0.0175 H   0  0  0  0  0  0  0  0  0  0  0  0\\n    4.7137    1.2259   -1.7194 H   0  0  0  0  0  0  0  0  0  0  0  0\\n    6.9021    2.1123    0.2752 H   0  0  0  0  0  0  0  0  0  0  0  0\\n    8.0691    0.5220   -1.6844 H   0  0  0  0  0  0  0  0  0  0  0  0\\n  1  2  1  0\\n  2  3  1  0\\n  3  4  2  0\\n  4  5  1  0\\n  5  6  1  0\\n  6  7  1  0\\n  7  8  1  0\\n  8  9  2  0\\n  9 10  1  0\\n 10 11  2  0\\n 11 12  1  0\\n 12 13  3  0\\n 11 14  1  0\\n 14 15  1  0\\n 15 16  2  0\\n 16 17  1  0\\n 17 18  2  0\\n 18 19  1  0\\n 19 20  2  0\\n 19 21  1  0\\n 18 22  1  0\\n 22 23  2  0\\n 14 24  2  0\\n 24 25  1  0\\n 25 26  2  0\\n 25 27  1  0\\n 25 28  1  0\\n  5 29  2  0\\n 29 30  1  0\\n 30 31  2  0\\n 31 32  1  0\\n 32 33  1  0\\n 33 34  1  0\\n 34 35  1  0\\n 35 36  1  0\\n 35 37  1  0\\n 37 38  1  0\\n 38 39  2  0\\n 38 40  1  0\\n 40 41  1  0\\n 40 42  1  0\\n 40 43  1  0\\n 23 15  1  0\\n 24  8  1  0\\n 31  3  1  0\\n  1 44  1  0\\n  1 45  1  0\\n  1 46  1  0\\n  7 47  1  0\\n  7 48  1  0\\n  9 49  1  0\\n 10 50  1  0\\n 16 51  1  0\\n 17 52  1  0\\n 21 53  1  0\\n 22 54  1  0\\n 23 55  1  0\\n 27 56  1  0\\n 28 57  1  0\\n 29 58  1  0\\n 30 59  1  0\\n 32 60  1  0\\n 32 61  1  0\\n 33 62  1  0\\n 33 63  1  0\\n 34 64  1  0\\n 34 65  1  0\\n 35 66  1  0\\n 37 67  1  0\\nM  CHG  1  33   1\\nM  END\\n\",\"mol\");\n\tviewer_1729862717297971.setStyle({\"stick\": {}});\n\tviewer_1729862717297971.zoomTo();\nviewer_1729862717297971.render();\n});\n</script>",
      "text/html": [
       "<div id=\"3dmolviewer_1729862717297971\"  style=\"position: relative; width: 600px; height: 300px;\">\n",
       "        <p id=\"3dmolwarning_1729862717297971\" style=\"background-color:#ffcccc;color:black\">3Dmol.js failed to load for some reason.  Please check your browser console for error messages.<br></p>\n",
       "        </div>\n",
       "<script>\n",
       "\n",
       "var loadScriptAsync = function(uri){\n",
       "  return new Promise((resolve, reject) => {\n",
       "    //this is to ignore the existence of requirejs amd\n",
       "    var savedexports, savedmodule;\n",
       "    if (typeof exports !== 'undefined') savedexports = exports;\n",
       "    else exports = {}\n",
       "    if (typeof module !== 'undefined') savedmodule = module;\n",
       "    else module = {}\n",
       "\n",
       "    var tag = document.createElement('script');\n",
       "    tag.src = uri;\n",
       "    tag.async = true;\n",
       "    tag.onload = () => {\n",
       "        exports = savedexports;\n",
       "        module = savedmodule;\n",
       "        resolve();\n",
       "    };\n",
       "  var firstScriptTag = document.getElementsByTagName('script')[0];\n",
       "  firstScriptTag.parentNode.insertBefore(tag, firstScriptTag);\n",
       "});\n",
       "};\n",
       "\n",
       "if(typeof $3Dmolpromise === 'undefined') {\n",
       "$3Dmolpromise = null;\n",
       "  $3Dmolpromise = loadScriptAsync('https://cdnjs.cloudflare.com/ajax/libs/3Dmol/2.4.0/3Dmol-min.js');\n",
       "}\n",
       "\n",
       "var viewer_1729862717297971 = null;\n",
       "var warn = document.getElementById(\"3dmolwarning_1729862717297971\");\n",
       "if(warn) {\n",
       "    warn.parentNode.removeChild(warn);\n",
       "}\n",
       "$3Dmolpromise.then(function() {\n",
       "viewer_1729862717297971 = $3Dmol.createViewer(document.getElementById(\"3dmolviewer_1729862717297971\"),{backgroundColor:\"white\"});\n",
       "viewer_1729862717297971.zoomTo();\n",
       "\tviewer_1729862717297971.addModel(\"\\n     RDKit          3D\\n\\n 67 69  0  0  0  0  0  0  0  0999 V2000\\n    1.8068   -1.1826   -1.8389 C   0  0  0  0  0  0  0  0  0  0  0  0\\n    2.3133    0.0654   -1.3657 O   0  0  0  0  0  0  0  0  0  0  0  0\\n    1.7888    0.4344   -0.1399 C   0  0  0  0  0  0  0  0  0  0  0  0\\n    1.1050   -0.4740    0.5831 N   0  0  0  0  0  0  0  0  0  0  0  0\\n    0.6323   -0.0708    1.7785 C   0  0  0  0  0  0  0  0  0  0  0  0\\n   -0.1349   -0.9103    2.5535 O   0  0  0  0  0  0  0  0  0  0  0  0\\n   -0.3731   -2.2203    2.0346 C   0  0  0  0  0  0  0  0  0  0  0  0\\n   -1.4134   -2.2348    0.9254 C   0  0  0  0  0  0  0  0  0  0  0  0\\n   -1.0849   -2.9237   -0.2535 C   0  0  0  0  0  0  0  0  0  0  0  0\\n   -1.9273   -2.8838   -1.3555 C   0  0  0  0  0  0  0  0  0  0  0  0\\n   -3.1031   -2.1294   -1.3099 C   0  0  0  0  0  0  0  0  0  0  0  0\\n   -3.8794   -2.0452   -2.5189 C   0  0  0  0  0  0  0  0  0  0  0  0\\n   -4.4670   -1.9916   -3.5181 N   0  0  0  0  0  0  0  0  0  0  0  0\\n   -3.4875   -1.4548   -0.1228 C   0  0  0  0  0  0  0  0  0  0  0  0\\n   -4.6936   -0.6029   -0.1378 C   0  0  0  0  0  0  0  0  0  0  0  0\\n   -5.9835   -1.1599   -0.1450 C   0  0  0  0  0  0  0  0  0  0  0  0\\n   -7.1176   -0.3417   -0.1908 C   0  0  0  0  0  0  0  0  0  0  0  0\\n   -6.9778    1.0490   -0.2333 C   0  0  0  0  0  0  0  0  0  0  0  0\\n   -8.1459    1.9607   -0.2807 C   0  0  0  0  0  0  0  0  0  0  0  0\\n   -8.0963    3.1757   -0.3501 O   0  0  0  0  0  0  0  0  0  0  0  0\\n   -9.3193    1.3074   -0.2323 O   0  0  0  0  0  0  0  0  0  0  0  0\\n   -5.6982    1.6147   -0.2332 C   0  0  0  0  0  0  0  0  0  0  0  0\\n   -4.5680    0.7948   -0.1883 C   0  0  0  0  0  0  0  0  0  0  0  0\\n   -2.6621   -1.5608    1.0356 C   0  0  0  0  0  0  0  0  0  0  0  0\\n   -3.1588   -0.9016    2.6074 P   0  0  0  0  0  0  0  0  0  0  0  0\\n   -2.5856   -1.4241    3.8876 O   0  0  0  0  0  0  0  0  0  0  0  0\\n   -2.9677    0.6952    2.5565 O   0  0  0  0  0  0  0  0  0  0  0  0\\n   -4.7558   -0.9844    2.7307 O   0  0  0  0  0  0  0  0  0  0  0  0\\n    0.8516    1.1948    2.2987 C   0  0  0  0  0  0  0  0  0  0  0  0\\n    1.5838    2.1089    1.5469 C   0  0  0  0  0  0  0  0  0  0  0  0\\n    2.0629    1.7345    0.2869 C   0  0  0  0  0  0  0  0  0  0  0  0\\n    2.8320    2.6917   -0.5670 C   0  0  0  0  0  0  0  0  0  0  0  0\\n    4.3045    2.7303   -0.2873 N   0  0  0  0  0  4  0  0  0  0  0  0\\n    5.0591    1.4912   -0.7130 C   0  0  0  0  0  0  0  0  0  0  0  0\\n    6.5964    1.7203   -0.7025 C   0  0  0  0  0  0  0  0  0  0  0  0\\n    7.1522    3.0942   -2.2381 I   0  0  0  0  0  0  0  0  0  0  0  0\\n    7.3545    0.5159   -0.9572 N   0  0  0  0  0  0  0  0  0  0  0  0\\n    7.4247   -0.4820    0.0106 C   0  0  0  0  0  0  0  0  0  0  0  0\\n    6.7229   -0.3890    1.0189 O   0  0  0  0  0  0  0  0  0  0  0  0\\n    8.4084   -1.6322   -0.3047 C   0  0  0  0  0  0  0  0  0  0  0  0\\n    8.9667   -1.4598   -1.5399 F   0  0  0  0  0  0  0  0  0  0  0  0\\n    9.6765   -1.6480    0.9209 Cl  0  0  0  0  0  0  0  0  0  0  0  0\\n    7.3793   -3.2738   -0.2812 Br  0  0  0  0  0  0  0  0  0  0  0  0\\n    2.2447   -1.3663   -2.8251 H   0  0  0  0  0  0  0  0  0  0  0  0\\n    2.1069   -2.0076   -1.1832 H   0  0  0  0  0  0  0  0  0  0  0  0\\n    0.7192   -1.1420   -1.9613 H   0  0  0  0  0  0  0  0  0  0  0  0\\n    0.5740   -2.6761    1.7178 H   0  0  0  0  0  0  0  0  0  0  0  0\\n   -0.7361   -2.8480    2.8546 H   0  0  0  0  0  0  0  0  0  0  0  0\\n   -0.1487   -3.4757   -0.3255 H   0  0  0  0  0  0  0  0  0  0  0  0\\n   -1.6455   -3.4138   -2.2645 H   0  0  0  0  0  0  0  0  0  0  0  0\\n   -6.1187   -2.2388   -0.1087 H   0  0  0  0  0  0  0  0  0  0  0  0\\n   -8.1031   -0.8013   -0.1944 H   0  0  0  0  0  0  0  0  0  0  0  0\\n   -9.9921    2.0185   -0.2890 H   0  0  0  0  0  0  0  0  0  0  0  0\\n   -5.5768    2.6945   -0.2674 H   0  0  0  0  0  0  0  0  0  0  0  0\\n   -3.5826    1.2569   -0.1874 H   0  0  0  0  0  0  0  0  0  0  0  0\\n   -3.0487    1.0790    3.4468 H   0  0  0  0  0  0  0  0  0  0  0  0\\n   -5.0687   -0.8669    3.6457 H   0  0  0  0  0  0  0  0  0  0  0  0\\n    0.4427    1.4622    3.2679 H   0  0  0  0  0  0  0  0  0  0  0  0\\n    1.7426    3.1073    1.9480 H   0  0  0  0  0  0  0  0  0  0  0  0\\n    2.4722    3.7123   -0.3882 H   0  0  0  0  0  0  0  0  0  0  0  0\\n    2.7032    2.5069   -1.6397 H   0  0  0  0  0  0  0  0  0  0  0  0\\n    4.6916    3.5478   -0.7788 H   0  0  0  0  0  0  0  0  0  0  0  0\\n    4.4505    2.8934    0.7176 H   0  0  0  0  0  0  0  0  0  0  0  0\\n    4.7678    0.7001   -0.0175 H   0  0  0  0  0  0  0  0  0  0  0  0\\n    4.7137    1.2259   -1.7194 H   0  0  0  0  0  0  0  0  0  0  0  0\\n    6.9021    2.1123    0.2752 H   0  0  0  0  0  0  0  0  0  0  0  0\\n    8.0691    0.5220   -1.6844 H   0  0  0  0  0  0  0  0  0  0  0  0\\n  1  2  1  0\\n  2  3  1  0\\n  3  4  2  0\\n  4  5  1  0\\n  5  6  1  0\\n  6  7  1  0\\n  7  8  1  0\\n  8  9  2  0\\n  9 10  1  0\\n 10 11  2  0\\n 11 12  1  0\\n 12 13  3  0\\n 11 14  1  0\\n 14 15  1  0\\n 15 16  2  0\\n 16 17  1  0\\n 17 18  2  0\\n 18 19  1  0\\n 19 20  2  0\\n 19 21  1  0\\n 18 22  1  0\\n 22 23  2  0\\n 14 24  2  0\\n 24 25  1  0\\n 25 26  2  0\\n 25 27  1  0\\n 25 28  1  0\\n  5 29  2  0\\n 29 30  1  0\\n 30 31  2  0\\n 31 32  1  0\\n 32 33  1  0\\n 33 34  1  0\\n 34 35  1  0\\n 35 36  1  0\\n 35 37  1  0\\n 37 38  1  0\\n 38 39  2  0\\n 38 40  1  0\\n 40 41  1  0\\n 40 42  1  0\\n 40 43  1  0\\n 23 15  1  0\\n 24  8  1  0\\n 31  3  1  0\\n  1 44  1  0\\n  1 45  1  0\\n  1 46  1  0\\n  7 47  1  0\\n  7 48  1  0\\n  9 49  1  0\\n 10 50  1  0\\n 16 51  1  0\\n 17 52  1  0\\n 21 53  1  0\\n 22 54  1  0\\n 23 55  1  0\\n 27 56  1  0\\n 28 57  1  0\\n 29 58  1  0\\n 30 59  1  0\\n 32 60  1  0\\n 32 61  1  0\\n 33 62  1  0\\n 33 63  1  0\\n 34 64  1  0\\n 34 65  1  0\\n 35 66  1  0\\n 37 67  1  0\\nM  CHG  1  33   1\\nM  END\\n\",\"mol\");\n",
       "\tviewer_1729862717297971.setStyle({\"stick\": {}});\n",
       "\tviewer_1729862717297971.zoomTo();\n",
       "viewer_1729862717297971.render();\n",
       "});\n",
       "</script>"
      ]
     },
     "execution_count": null,
     "metadata": {},
     "output_type": "display_data"
    }
   ],
   "source": []
  },
  {
   "cell_type": "markdown",
   "id": "7ad6bdae",
   "metadata": {
    "papermill": {
     "duration": 0.001411,
     "end_time": "2024-10-25T13:25:17.303563",
     "exception": false,
     "start_time": "2024-10-25T13:25:17.302152",
     "status": "completed"
    },
    "tags": []
   },
   "source": [
    "## References\n",
    "\n",
    "- https://birdlet.github.io/2019/10/02/py3dmol_example/"
   ]
  }
 ],
 "metadata": {
  "kernelspec": {
   "display_name": "work",
   "language": "python",
   "name": "python3"
  },
  "language_info": {
   "codemirror_mode": {
    "name": "ipython",
    "version": 3
   },
   "file_extension": ".py",
   "mimetype": "text/x-python",
   "name": "python",
   "nbconvert_exporter": "python",
   "pygments_lexer": "ipython3",
   "version": "3.12.3"
  },
  "papermill": {
   "default_parameters": {},
   "duration": 1.357024,
   "end_time": "2024-10-25T13:25:17.521449",
   "environment_variables": {},
   "exception": null,
   "input_path": "/Users/sota/Library/CloudStorage/Dropbox-datons/Training/2 Areas/Courses/3 Catalogue/LB/workbook/RDKit/2_Animations/1C_.ipynb",
   "output_path": "/Users/sota/Library/CloudStorage/Dropbox-datons/Training/2 Areas/Courses/3 Catalogue/LB/workbook/RDKit/2_Animations/1C_.ipynb",
   "parameters": {},
   "start_time": "2024-10-25T13:25:16.164425",
   "version": "2.6.0"
  },
  "widgets": {
   "application/vnd.jupyter.widget-state+json": {
    "state": {
     "049c72d9a8ed485c9bae9f88a7818697": {
      "model_module": "@jupyter-widgets/base",
      "model_module_version": "2.0.0",
      "model_name": "LayoutModel",
      "state": {
       "_model_module": "@jupyter-widgets/base",
       "_model_module_version": "2.0.0",
       "_model_name": "LayoutModel",
       "_view_count": null,
       "_view_module": "@jupyter-widgets/base",
       "_view_module_version": "2.0.0",
       "_view_name": "LayoutView",
       "align_content": null,
       "align_items": null,
       "align_self": null,
       "border_bottom": null,
       "border_left": null,
       "border_right": null,
       "border_top": null,
       "bottom": null,
       "display": null,
       "flex": null,
       "flex_flow": null,
       "grid_area": null,
       "grid_auto_columns": null,
       "grid_auto_flow": null,
       "grid_auto_rows": null,
       "grid_column": null,
       "grid_gap": null,
       "grid_row": null,
       "grid_template_areas": null,
       "grid_template_columns": null,
       "grid_template_rows": null,
       "height": null,
       "justify_content": null,
       "justify_items": null,
       "left": null,
       "margin": null,
       "max_height": null,
       "max_width": null,
       "min_height": null,
       "min_width": null,
       "object_fit": null,
       "object_position": null,
       "order": null,
       "overflow": null,
       "padding": null,
       "right": null,
       "top": null,
       "visibility": null,
       "width": null
      }
     },
     "27ad5331e9fe4e3ebfec3010cac4cba6": {
      "model_module": "@jupyter-widgets/controls",
      "model_module_version": "2.0.0",
      "model_name": "TextStyleModel",
      "state": {
       "_model_module": "@jupyter-widgets/controls",
       "_model_module_version": "2.0.0",
       "_model_name": "TextStyleModel",
       "_view_count": null,
       "_view_module": "@jupyter-widgets/base",
       "_view_module_version": "2.0.0",
       "_view_name": "StyleView",
       "background": null,
       "description_width": "",
       "font_size": null,
       "text_color": null
      }
     },
     "3545f78e31ca4585ac48f75465a2619f": {
      "model_module": "@jupyter-widgets/controls",
      "model_module_version": "2.0.0",
      "model_name": "VBoxModel",
      "state": {
       "_dom_classes": [
        "widget-interact"
       ],
       "_model_module": "@jupyter-widgets/controls",
       "_model_module_version": "2.0.0",
       "_model_name": "VBoxModel",
       "_view_count": null,
       "_view_module": "@jupyter-widgets/controls",
       "_view_module_version": "2.0.0",
       "_view_name": "VBoxView",
       "box_style": "",
       "children": [
        "IPY_MODEL_88c3c77bd4c7428da3c51fe1f0ee9ba2",
        "IPY_MODEL_bdb8f601e60e4cd981be5b064b3de3d0"
       ],
       "layout": "IPY_MODEL_7de7e367c82d459cacc321aa40572768",
       "tabbable": null,
       "tooltip": null
      }
     },
     "7de7e367c82d459cacc321aa40572768": {
      "model_module": "@jupyter-widgets/base",
      "model_module_version": "2.0.0",
      "model_name": "LayoutModel",
      "state": {
       "_model_module": "@jupyter-widgets/base",
       "_model_module_version": "2.0.0",
       "_model_name": "LayoutModel",
       "_view_count": null,
       "_view_module": "@jupyter-widgets/base",
       "_view_module_version": "2.0.0",
       "_view_name": "LayoutView",
       "align_content": null,
       "align_items": null,
       "align_self": null,
       "border_bottom": null,
       "border_left": null,
       "border_right": null,
       "border_top": null,
       "bottom": null,
       "display": null,
       "flex": null,
       "flex_flow": null,
       "grid_area": null,
       "grid_auto_columns": null,
       "grid_auto_flow": null,
       "grid_auto_rows": null,
       "grid_column": null,
       "grid_gap": null,
       "grid_row": null,
       "grid_template_areas": null,
       "grid_template_columns": null,
       "grid_template_rows": null,
       "height": null,
       "justify_content": null,
       "justify_items": null,
       "left": null,
       "margin": null,
       "max_height": null,
       "max_width": null,
       "min_height": null,
       "min_width": null,
       "object_fit": null,
       "object_position": null,
       "order": null,
       "overflow": null,
       "padding": null,
       "right": null,
       "top": null,
       "visibility": null,
       "width": null
      }
     },
     "88c3c77bd4c7428da3c51fe1f0ee9ba2": {
      "model_module": "@jupyter-widgets/controls",
      "model_module_version": "2.0.0",
      "model_name": "TextModel",
      "state": {
       "_dom_classes": [],
       "_model_module": "@jupyter-widgets/controls",
       "_model_module_version": "2.0.0",
       "_model_name": "TextModel",
       "_view_count": null,
       "_view_module": "@jupyter-widgets/controls",
       "_view_module_version": "2.0.0",
       "_view_name": "TextView",
       "continuous_update": true,
       "description": "smi",
       "description_allow_html": false,
       "disabled": false,
       "layout": "IPY_MODEL_c2e617074346472599bae25e3c43fad3",
       "placeholder": "​",
       "style": "IPY_MODEL_27ad5331e9fe4e3ebfec3010cac4cba6",
       "tabbable": null,
       "tooltip": null,
       "value": "CC=O"
      }
     },
     "bdb8f601e60e4cd981be5b064b3de3d0": {
      "model_module": "@jupyter-widgets/output",
      "model_module_version": "1.0.0",
      "model_name": "OutputModel",
      "state": {
       "_dom_classes": [],
       "_model_module": "@jupyter-widgets/output",
       "_model_module_version": "1.0.0",
       "_model_name": "OutputModel",
       "_view_count": null,
       "_view_module": "@jupyter-widgets/output",
       "_view_module_version": "1.0.0",
       "_view_name": "OutputView",
       "layout": "IPY_MODEL_049c72d9a8ed485c9bae9f88a7818697",
       "msg_id": "",
       "outputs": [
        {
         "data": {
          "application/3dmoljs_load.v0": "<div id=\"3dmolviewer_17298627171677802\"  style=\"position: relative; width: 600px; height: 600px;\">\n        <p id=\"3dmolwarning_17298627171677802\" style=\"background-color:#ffcccc;color:black\">3Dmol.js failed to load for some reason.  Please check your browser console for error messages.<br></p>\n        </div>\n<script>\n\nvar loadScriptAsync = function(uri){\n  return new Promise((resolve, reject) => {\n    //this is to ignore the existence of requirejs amd\n    var savedexports, savedmodule;\n    if (typeof exports !== 'undefined') savedexports = exports;\n    else exports = {}\n    if (typeof module !== 'undefined') savedmodule = module;\n    else module = {}\n\n    var tag = document.createElement('script');\n    tag.src = uri;\n    tag.async = true;\n    tag.onload = () => {\n        exports = savedexports;\n        module = savedmodule;\n        resolve();\n    };\n  var firstScriptTag = document.getElementsByTagName('script')[0];\n  firstScriptTag.parentNode.insertBefore(tag, firstScriptTag);\n});\n};\n\nif(typeof $3Dmolpromise === 'undefined') {\n$3Dmolpromise = null;\n  $3Dmolpromise = loadScriptAsync('https://cdnjs.cloudflare.com/ajax/libs/3Dmol/2.4.0/3Dmol-min.js');\n}\n\nvar viewer_17298627171677802 = null;\nvar warn = document.getElementById(\"3dmolwarning_17298627171677802\");\nif(warn) {\n    warn.parentNode.removeChild(warn);\n}\n$3Dmolpromise.then(function() {\nviewer_17298627171677802 = $3Dmol.createViewer(document.getElementById(\"3dmolviewer_17298627171677802\"),{backgroundColor:\"white\"});\nviewer_17298627171677802.zoomTo();\n\tviewer_17298627171677802.addModel(\"\\n     RDKit          3D\\n\\n  7  6  0  0  0  0  0  0  0  0999 V2000\\n   -0.6487   -0.0514   -0.0068 C   0  0  0  0  0  0  0  0  0  0  0  0\\n    0.8436    0.0731    0.0103 C   0  0  0  0  0  0  0  0  0  0  0  0\\n    1.6027   -0.8635   -0.2154 O   0  0  0  0  0  0  0  0  0  0  0  0\\n   -1.0553    0.6249   -0.7623 H   0  0  0  0  0  0  0  0  0  0  0  0\\n   -0.9366   -1.0782   -0.2451 H   0  0  0  0  0  0  0  0  0  0  0  0\\n   -1.0411    0.2173    0.9767 H   0  0  0  0  0  0  0  0  0  0  0  0\\n    1.2354    1.0777    0.2425 H   0  0  0  0  0  0  0  0  0  0  0  0\\n  1  2  1  0\\n  2  3  2  0\\n  1  4  1  0\\n  1  5  1  0\\n  1  6  1  0\\n  2  7  1  0\\nM  END\\n\",\"mol\");\n\tviewer_17298627171677802.setStyle({\"stick\": {}});\n\tviewer_17298627171677802.zoomTo();\nviewer_17298627171677802.render();\n});\n</script>",
          "text/html": "<div id=\"3dmolviewer_17298627171677802\"  style=\"position: relative; width: 600px; height: 600px;\">\n        <p id=\"3dmolwarning_17298627171677802\" style=\"background-color:#ffcccc;color:black\">3Dmol.js failed to load for some reason.  Please check your browser console for error messages.<br></p>\n        </div>\n<script>\n\nvar loadScriptAsync = function(uri){\n  return new Promise((resolve, reject) => {\n    //this is to ignore the existence of requirejs amd\n    var savedexports, savedmodule;\n    if (typeof exports !== 'undefined') savedexports = exports;\n    else exports = {}\n    if (typeof module !== 'undefined') savedmodule = module;\n    else module = {}\n\n    var tag = document.createElement('script');\n    tag.src = uri;\n    tag.async = true;\n    tag.onload = () => {\n        exports = savedexports;\n        module = savedmodule;\n        resolve();\n    };\n  var firstScriptTag = document.getElementsByTagName('script')[0];\n  firstScriptTag.parentNode.insertBefore(tag, firstScriptTag);\n});\n};\n\nif(typeof $3Dmolpromise === 'undefined') {\n$3Dmolpromise = null;\n  $3Dmolpromise = loadScriptAsync('https://cdnjs.cloudflare.com/ajax/libs/3Dmol/2.4.0/3Dmol-min.js');\n}\n\nvar viewer_17298627171677802 = null;\nvar warn = document.getElementById(\"3dmolwarning_17298627171677802\");\nif(warn) {\n    warn.parentNode.removeChild(warn);\n}\n$3Dmolpromise.then(function() {\nviewer_17298627171677802 = $3Dmol.createViewer(document.getElementById(\"3dmolviewer_17298627171677802\"),{backgroundColor:\"white\"});\nviewer_17298627171677802.zoomTo();\n\tviewer_17298627171677802.addModel(\"\\n     RDKit          3D\\n\\n  7  6  0  0  0  0  0  0  0  0999 V2000\\n   -0.6487   -0.0514   -0.0068 C   0  0  0  0  0  0  0  0  0  0  0  0\\n    0.8436    0.0731    0.0103 C   0  0  0  0  0  0  0  0  0  0  0  0\\n    1.6027   -0.8635   -0.2154 O   0  0  0  0  0  0  0  0  0  0  0  0\\n   -1.0553    0.6249   -0.7623 H   0  0  0  0  0  0  0  0  0  0  0  0\\n   -0.9366   -1.0782   -0.2451 H   0  0  0  0  0  0  0  0  0  0  0  0\\n   -1.0411    0.2173    0.9767 H   0  0  0  0  0  0  0  0  0  0  0  0\\n    1.2354    1.0777    0.2425 H   0  0  0  0  0  0  0  0  0  0  0  0\\n  1  2  1  0\\n  2  3  2  0\\n  1  4  1  0\\n  1  5  1  0\\n  1  6  1  0\\n  2  7  1  0\\nM  END\\n\",\"mol\");\n\tviewer_17298627171677802.setStyle({\"stick\": {}});\n\tviewer_17298627171677802.zoomTo();\nviewer_17298627171677802.render();\n});\n</script>"
         },
         "metadata": {},
         "output_type": "display_data"
        }
       ],
       "tabbable": null,
       "tooltip": null
      }
     },
     "c2e617074346472599bae25e3c43fad3": {
      "model_module": "@jupyter-widgets/base",
      "model_module_version": "2.0.0",
      "model_name": "LayoutModel",
      "state": {
       "_model_module": "@jupyter-widgets/base",
       "_model_module_version": "2.0.0",
       "_model_name": "LayoutModel",
       "_view_count": null,
       "_view_module": "@jupyter-widgets/base",
       "_view_module_version": "2.0.0",
       "_view_name": "LayoutView",
       "align_content": null,
       "align_items": null,
       "align_self": null,
       "border_bottom": null,
       "border_left": null,
       "border_right": null,
       "border_top": null,
       "bottom": null,
       "display": null,
       "flex": null,
       "flex_flow": null,
       "grid_area": null,
       "grid_auto_columns": null,
       "grid_auto_flow": null,
       "grid_auto_rows": null,
       "grid_column": null,
       "grid_gap": null,
       "grid_row": null,
       "grid_template_areas": null,
       "grid_template_columns": null,
       "grid_template_rows": null,
       "height": null,
       "justify_content": null,
       "justify_items": null,
       "left": null,
       "margin": null,
       "max_height": null,
       "max_width": null,
       "min_height": null,
       "min_width": null,
       "object_fit": null,
       "object_position": null,
       "order": null,
       "overflow": null,
       "padding": null,
       "right": null,
       "top": null,
       "visibility": null,
       "width": null
      }
     }
    },
    "version_major": 2,
    "version_minor": 0
   }
  }
 },
 "nbformat": 4,
 "nbformat_minor": 5
}
